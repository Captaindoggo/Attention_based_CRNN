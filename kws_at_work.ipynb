{
  "nbformat": 4,
  "nbformat_minor": 0,
  "metadata": {
    "kernelspec": {
      "display_name": "Python 3",
      "language": "python",
      "name": "python3"
    },
    "language_info": {
      "codemirror_mode": {
        "name": "ipython",
        "version": 3
      },
      "file_extension": ".py",
      "mimetype": "text/x-python",
      "name": "python",
      "nbconvert_exporter": "python",
      "pygments_lexer": "ipython3",
      "version": "3.7.7"
    },
    "colab": {
      "name": "homework_3.ipynb",
      "provenance": [],
      "collapsed_sections": [],
      "toc_visible": true
    },
    "accelerator": "GPU",
    "widgets": {
      "application/vnd.jupyter.widget-state+json": {
        "721451d4414547d59c2b2398e82a4836": {
          "model_module": "@jupyter-widgets/controls",
          "model_name": "HBoxModel",
          "state": {
            "_view_name": "HBoxView",
            "_dom_classes": [],
            "_model_name": "HBoxModel",
            "_view_module": "@jupyter-widgets/controls",
            "_model_module_version": "1.5.0",
            "_view_count": null,
            "_view_module_version": "1.5.0",
            "box_style": "",
            "layout": "IPY_MODEL_8fb995f61d39470dacc345fc092fceaf",
            "_model_module": "@jupyter-widgets/controls",
            "children": [
              "IPY_MODEL_4d83a4fa19de47f5b9420a9385f21dae",
              "IPY_MODEL_6e3d1cd732a546e1b47c3e71b9a1780c"
            ]
          }
        },
        "8fb995f61d39470dacc345fc092fceaf": {
          "model_module": "@jupyter-widgets/base",
          "model_name": "LayoutModel",
          "state": {
            "_view_name": "LayoutView",
            "grid_template_rows": null,
            "right": null,
            "justify_content": null,
            "_view_module": "@jupyter-widgets/base",
            "overflow": null,
            "_model_module_version": "1.2.0",
            "_view_count": null,
            "flex_flow": null,
            "width": null,
            "min_width": null,
            "border": null,
            "align_items": null,
            "bottom": null,
            "_model_module": "@jupyter-widgets/base",
            "top": null,
            "grid_column": null,
            "overflow_y": null,
            "overflow_x": null,
            "grid_auto_flow": null,
            "grid_area": null,
            "grid_template_columns": null,
            "flex": null,
            "_model_name": "LayoutModel",
            "justify_items": null,
            "grid_row": null,
            "max_height": null,
            "align_content": null,
            "visibility": null,
            "align_self": null,
            "height": null,
            "min_height": null,
            "padding": null,
            "grid_auto_rows": null,
            "grid_gap": null,
            "max_width": null,
            "order": null,
            "_view_module_version": "1.2.0",
            "grid_template_areas": null,
            "object_position": null,
            "object_fit": null,
            "grid_auto_columns": null,
            "margin": null,
            "display": null,
            "left": null
          }
        },
        "4d83a4fa19de47f5b9420a9385f21dae": {
          "model_module": "@jupyter-widgets/controls",
          "model_name": "FloatProgressModel",
          "state": {
            "_view_name": "ProgressView",
            "style": "IPY_MODEL_e8c17514edeb4450819177bb2b8b3a41",
            "_dom_classes": [],
            "description": "",
            "_model_name": "FloatProgressModel",
            "bar_style": "success",
            "max": 8080,
            "_view_module": "@jupyter-widgets/controls",
            "_model_module_version": "1.5.0",
            "value": 8080,
            "_view_count": null,
            "_view_module_version": "1.5.0",
            "orientation": "horizontal",
            "min": 0,
            "description_tooltip": null,
            "_model_module": "@jupyter-widgets/controls",
            "layout": "IPY_MODEL_6029df1b06914199a4bd89c37002b767"
          }
        },
        "6e3d1cd732a546e1b47c3e71b9a1780c": {
          "model_module": "@jupyter-widgets/controls",
          "model_name": "HTMLModel",
          "state": {
            "_view_name": "HTMLView",
            "style": "IPY_MODEL_858f0d0769e94cc5bde6238362345f84",
            "_dom_classes": [],
            "description": "",
            "_model_name": "HTMLModel",
            "placeholder": "​",
            "_view_module": "@jupyter-widgets/controls",
            "_model_module_version": "1.5.0",
            "value": " 8120/? [4:14:58&lt;00:00,  1.88s/it]",
            "_view_count": null,
            "_view_module_version": "1.5.0",
            "description_tooltip": null,
            "_model_module": "@jupyter-widgets/controls",
            "layout": "IPY_MODEL_50aa904b90e74d07b407d13b0522400c"
          }
        },
        "e8c17514edeb4450819177bb2b8b3a41": {
          "model_module": "@jupyter-widgets/controls",
          "model_name": "ProgressStyleModel",
          "state": {
            "_view_name": "StyleView",
            "_model_name": "ProgressStyleModel",
            "description_width": "initial",
            "_view_module": "@jupyter-widgets/base",
            "_model_module_version": "1.5.0",
            "_view_count": null,
            "_view_module_version": "1.2.0",
            "bar_color": null,
            "_model_module": "@jupyter-widgets/controls"
          }
        },
        "6029df1b06914199a4bd89c37002b767": {
          "model_module": "@jupyter-widgets/base",
          "model_name": "LayoutModel",
          "state": {
            "_view_name": "LayoutView",
            "grid_template_rows": null,
            "right": null,
            "justify_content": null,
            "_view_module": "@jupyter-widgets/base",
            "overflow": null,
            "_model_module_version": "1.2.0",
            "_view_count": null,
            "flex_flow": null,
            "width": null,
            "min_width": null,
            "border": null,
            "align_items": null,
            "bottom": null,
            "_model_module": "@jupyter-widgets/base",
            "top": null,
            "grid_column": null,
            "overflow_y": null,
            "overflow_x": null,
            "grid_auto_flow": null,
            "grid_area": null,
            "grid_template_columns": null,
            "flex": null,
            "_model_name": "LayoutModel",
            "justify_items": null,
            "grid_row": null,
            "max_height": null,
            "align_content": null,
            "visibility": null,
            "align_self": null,
            "height": null,
            "min_height": null,
            "padding": null,
            "grid_auto_rows": null,
            "grid_gap": null,
            "max_width": null,
            "order": null,
            "_view_module_version": "1.2.0",
            "grid_template_areas": null,
            "object_position": null,
            "object_fit": null,
            "grid_auto_columns": null,
            "margin": null,
            "display": null,
            "left": null
          }
        },
        "858f0d0769e94cc5bde6238362345f84": {
          "model_module": "@jupyter-widgets/controls",
          "model_name": "DescriptionStyleModel",
          "state": {
            "_view_name": "StyleView",
            "_model_name": "DescriptionStyleModel",
            "description_width": "",
            "_view_module": "@jupyter-widgets/base",
            "_model_module_version": "1.5.0",
            "_view_count": null,
            "_view_module_version": "1.2.0",
            "_model_module": "@jupyter-widgets/controls"
          }
        },
        "50aa904b90e74d07b407d13b0522400c": {
          "model_module": "@jupyter-widgets/base",
          "model_name": "LayoutModel",
          "state": {
            "_view_name": "LayoutView",
            "grid_template_rows": null,
            "right": null,
            "justify_content": null,
            "_view_module": "@jupyter-widgets/base",
            "overflow": null,
            "_model_module_version": "1.2.0",
            "_view_count": null,
            "flex_flow": null,
            "width": null,
            "min_width": null,
            "border": null,
            "align_items": null,
            "bottom": null,
            "_model_module": "@jupyter-widgets/base",
            "top": null,
            "grid_column": null,
            "overflow_y": null,
            "overflow_x": null,
            "grid_auto_flow": null,
            "grid_area": null,
            "grid_template_columns": null,
            "flex": null,
            "_model_name": "LayoutModel",
            "justify_items": null,
            "grid_row": null,
            "max_height": null,
            "align_content": null,
            "visibility": null,
            "align_self": null,
            "height": null,
            "min_height": null,
            "padding": null,
            "grid_auto_rows": null,
            "grid_gap": null,
            "max_width": null,
            "order": null,
            "_view_module_version": "1.2.0",
            "grid_template_areas": null,
            "object_position": null,
            "object_fit": null,
            "grid_auto_columns": null,
            "margin": null,
            "display": null,
            "left": null
          }
        },
        "80b0ba51615f46469b86f2c2218a446c": {
          "model_module": "@jupyter-widgets/controls",
          "model_name": "VBoxModel",
          "state": {
            "_view_name": "VBoxView",
            "_dom_classes": [],
            "_model_name": "VBoxModel",
            "_view_module": "@jupyter-widgets/controls",
            "_model_module_version": "1.5.0",
            "_view_count": null,
            "_view_module_version": "1.5.0",
            "box_style": "",
            "layout": "IPY_MODEL_f466933e9a67412ebc1df7fb1f81c9d0",
            "_model_module": "@jupyter-widgets/controls",
            "children": [
              "IPY_MODEL_fdcd36b307484a8e861489a0a2075a84",
              "IPY_MODEL_eca1cb916a27431eb2e9682ae44fd9a3"
            ]
          }
        },
        "f466933e9a67412ebc1df7fb1f81c9d0": {
          "model_module": "@jupyter-widgets/base",
          "model_name": "LayoutModel",
          "state": {
            "_view_name": "LayoutView",
            "grid_template_rows": null,
            "right": null,
            "justify_content": null,
            "_view_module": "@jupyter-widgets/base",
            "overflow": null,
            "_model_module_version": "1.2.0",
            "_view_count": null,
            "flex_flow": null,
            "width": null,
            "min_width": null,
            "border": null,
            "align_items": null,
            "bottom": null,
            "_model_module": "@jupyter-widgets/base",
            "top": null,
            "grid_column": null,
            "overflow_y": null,
            "overflow_x": null,
            "grid_auto_flow": null,
            "grid_area": null,
            "grid_template_columns": null,
            "flex": null,
            "_model_name": "LayoutModel",
            "justify_items": null,
            "grid_row": null,
            "max_height": null,
            "align_content": null,
            "visibility": null,
            "align_self": null,
            "height": null,
            "min_height": null,
            "padding": null,
            "grid_auto_rows": null,
            "grid_gap": null,
            "max_width": null,
            "order": null,
            "_view_module_version": "1.2.0",
            "grid_template_areas": null,
            "object_position": null,
            "object_fit": null,
            "grid_auto_columns": null,
            "margin": null,
            "display": null,
            "left": null
          }
        },
        "fdcd36b307484a8e861489a0a2075a84": {
          "model_module": "@jupyter-widgets/controls",
          "model_name": "LabelModel",
          "state": {
            "_view_name": "LabelView",
            "style": "IPY_MODEL_39543281e987444197fb5230f2284554",
            "_dom_classes": [],
            "description": "",
            "_model_name": "LabelModel",
            "placeholder": "​",
            "_view_module": "@jupyter-widgets/controls",
            "_model_module_version": "1.5.0",
            "value": " 0.01MB of 0.01MB uploaded (0.00MB deduped)\r",
            "_view_count": null,
            "_view_module_version": "1.5.0",
            "description_tooltip": null,
            "_model_module": "@jupyter-widgets/controls",
            "layout": "IPY_MODEL_e25cb7fabf6c4877bbc7e5b383e7f64a"
          }
        },
        "eca1cb916a27431eb2e9682ae44fd9a3": {
          "model_module": "@jupyter-widgets/controls",
          "model_name": "FloatProgressModel",
          "state": {
            "_view_name": "ProgressView",
            "style": "IPY_MODEL_892a8595b97445738bd51f4845cde642",
            "_dom_classes": [],
            "description": "",
            "_model_name": "FloatProgressModel",
            "bar_style": "",
            "max": 1,
            "_view_module": "@jupyter-widgets/controls",
            "_model_module_version": "1.5.0",
            "value": 1,
            "_view_count": null,
            "_view_module_version": "1.5.0",
            "orientation": "horizontal",
            "min": 0,
            "description_tooltip": null,
            "_model_module": "@jupyter-widgets/controls",
            "layout": "IPY_MODEL_0b6ef0efb4574c15926aa28762f44876"
          }
        },
        "39543281e987444197fb5230f2284554": {
          "model_module": "@jupyter-widgets/controls",
          "model_name": "DescriptionStyleModel",
          "state": {
            "_view_name": "StyleView",
            "_model_name": "DescriptionStyleModel",
            "description_width": "",
            "_view_module": "@jupyter-widgets/base",
            "_model_module_version": "1.5.0",
            "_view_count": null,
            "_view_module_version": "1.2.0",
            "_model_module": "@jupyter-widgets/controls"
          }
        },
        "e25cb7fabf6c4877bbc7e5b383e7f64a": {
          "model_module": "@jupyter-widgets/base",
          "model_name": "LayoutModel",
          "state": {
            "_view_name": "LayoutView",
            "grid_template_rows": null,
            "right": null,
            "justify_content": null,
            "_view_module": "@jupyter-widgets/base",
            "overflow": null,
            "_model_module_version": "1.2.0",
            "_view_count": null,
            "flex_flow": null,
            "width": null,
            "min_width": null,
            "border": null,
            "align_items": null,
            "bottom": null,
            "_model_module": "@jupyter-widgets/base",
            "top": null,
            "grid_column": null,
            "overflow_y": null,
            "overflow_x": null,
            "grid_auto_flow": null,
            "grid_area": null,
            "grid_template_columns": null,
            "flex": null,
            "_model_name": "LayoutModel",
            "justify_items": null,
            "grid_row": null,
            "max_height": null,
            "align_content": null,
            "visibility": null,
            "align_self": null,
            "height": null,
            "min_height": null,
            "padding": null,
            "grid_auto_rows": null,
            "grid_gap": null,
            "max_width": null,
            "order": null,
            "_view_module_version": "1.2.0",
            "grid_template_areas": null,
            "object_position": null,
            "object_fit": null,
            "grid_auto_columns": null,
            "margin": null,
            "display": null,
            "left": null
          }
        },
        "892a8595b97445738bd51f4845cde642": {
          "model_module": "@jupyter-widgets/controls",
          "model_name": "ProgressStyleModel",
          "state": {
            "_view_name": "StyleView",
            "_model_name": "ProgressStyleModel",
            "description_width": "",
            "_view_module": "@jupyter-widgets/base",
            "_model_module_version": "1.5.0",
            "_view_count": null,
            "_view_module_version": "1.2.0",
            "bar_color": null,
            "_model_module": "@jupyter-widgets/controls"
          }
        },
        "0b6ef0efb4574c15926aa28762f44876": {
          "model_module": "@jupyter-widgets/base",
          "model_name": "LayoutModel",
          "state": {
            "_view_name": "LayoutView",
            "grid_template_rows": null,
            "right": null,
            "justify_content": null,
            "_view_module": "@jupyter-widgets/base",
            "overflow": null,
            "_model_module_version": "1.2.0",
            "_view_count": null,
            "flex_flow": null,
            "width": null,
            "min_width": null,
            "border": null,
            "align_items": null,
            "bottom": null,
            "_model_module": "@jupyter-widgets/base",
            "top": null,
            "grid_column": null,
            "overflow_y": null,
            "overflow_x": null,
            "grid_auto_flow": null,
            "grid_area": null,
            "grid_template_columns": null,
            "flex": null,
            "_model_name": "LayoutModel",
            "justify_items": null,
            "grid_row": null,
            "max_height": null,
            "align_content": null,
            "visibility": null,
            "align_self": null,
            "height": null,
            "min_height": null,
            "padding": null,
            "grid_auto_rows": null,
            "grid_gap": null,
            "max_width": null,
            "order": null,
            "_view_module_version": "1.2.0",
            "grid_template_areas": null,
            "object_position": null,
            "object_fit": null,
            "grid_auto_columns": null,
            "margin": null,
            "display": null,
            "left": null
          }
        },
        "7cf5175d74854b2188be9aae4af4b724": {
          "model_module": "@jupyter-widgets/controls",
          "model_name": "HBoxModel",
          "state": {
            "_view_name": "HBoxView",
            "_dom_classes": [],
            "_model_name": "HBoxModel",
            "_view_module": "@jupyter-widgets/controls",
            "_model_module_version": "1.5.0",
            "_view_count": null,
            "_view_module_version": "1.5.0",
            "box_style": "",
            "layout": "IPY_MODEL_fce40ba30c7a4d87af00d6ebccc036be",
            "_model_module": "@jupyter-widgets/controls",
            "children": [
              "IPY_MODEL_ff6d32f7e7a045bcb4a488e66e4d61bf",
              "IPY_MODEL_06858e19e1d24ebab86a4ae015ea7191"
            ]
          }
        },
        "fce40ba30c7a4d87af00d6ebccc036be": {
          "model_module": "@jupyter-widgets/base",
          "model_name": "LayoutModel",
          "state": {
            "_view_name": "LayoutView",
            "grid_template_rows": null,
            "right": null,
            "justify_content": null,
            "_view_module": "@jupyter-widgets/base",
            "overflow": null,
            "_model_module_version": "1.2.0",
            "_view_count": null,
            "flex_flow": null,
            "width": null,
            "min_width": null,
            "border": null,
            "align_items": null,
            "bottom": null,
            "_model_module": "@jupyter-widgets/base",
            "top": null,
            "grid_column": null,
            "overflow_y": null,
            "overflow_x": null,
            "grid_auto_flow": null,
            "grid_area": null,
            "grid_template_columns": null,
            "flex": null,
            "_model_name": "LayoutModel",
            "justify_items": null,
            "grid_row": null,
            "max_height": null,
            "align_content": null,
            "visibility": null,
            "align_self": null,
            "height": null,
            "min_height": null,
            "padding": null,
            "grid_auto_rows": null,
            "grid_gap": null,
            "max_width": null,
            "order": null,
            "_view_module_version": "1.2.0",
            "grid_template_areas": null,
            "object_position": null,
            "object_fit": null,
            "grid_auto_columns": null,
            "margin": null,
            "display": null,
            "left": null
          }
        },
        "ff6d32f7e7a045bcb4a488e66e4d61bf": {
          "model_module": "@jupyter-widgets/controls",
          "model_name": "FloatProgressModel",
          "state": {
            "_view_name": "ProgressView",
            "style": "IPY_MODEL_147507eabd6b487b904249e57acc81a6",
            "_dom_classes": [],
            "description": "",
            "_model_name": "FloatProgressModel",
            "bar_style": "success",
            "max": 2020,
            "_view_module": "@jupyter-widgets/controls",
            "_model_module_version": "1.5.0",
            "value": 2020,
            "_view_count": null,
            "_view_module_version": "1.5.0",
            "orientation": "horizontal",
            "min": 0,
            "description_tooltip": null,
            "_model_module": "@jupyter-widgets/controls",
            "layout": "IPY_MODEL_ab12cfe225554399ba096188333a7b28"
          }
        },
        "06858e19e1d24ebab86a4ae015ea7191": {
          "model_module": "@jupyter-widgets/controls",
          "model_name": "HTMLModel",
          "state": {
            "_view_name": "HTMLView",
            "style": "IPY_MODEL_01ff085d1686413a9f410f03089a0f69",
            "_dom_classes": [],
            "description": "",
            "_model_name": "HTMLModel",
            "placeholder": "​",
            "_view_module": "@jupyter-widgets/controls",
            "_model_module_version": "1.5.0",
            "value": " 2030/? [1:10:30&lt;00:00,  2.08s/it]",
            "_view_count": null,
            "_view_module_version": "1.5.0",
            "description_tooltip": null,
            "_model_module": "@jupyter-widgets/controls",
            "layout": "IPY_MODEL_440e6f5c391a4caea6f13cc94504666c"
          }
        },
        "147507eabd6b487b904249e57acc81a6": {
          "model_module": "@jupyter-widgets/controls",
          "model_name": "ProgressStyleModel",
          "state": {
            "_view_name": "StyleView",
            "_model_name": "ProgressStyleModel",
            "description_width": "initial",
            "_view_module": "@jupyter-widgets/base",
            "_model_module_version": "1.5.0",
            "_view_count": null,
            "_view_module_version": "1.2.0",
            "bar_color": null,
            "_model_module": "@jupyter-widgets/controls"
          }
        },
        "ab12cfe225554399ba096188333a7b28": {
          "model_module": "@jupyter-widgets/base",
          "model_name": "LayoutModel",
          "state": {
            "_view_name": "LayoutView",
            "grid_template_rows": null,
            "right": null,
            "justify_content": null,
            "_view_module": "@jupyter-widgets/base",
            "overflow": null,
            "_model_module_version": "1.2.0",
            "_view_count": null,
            "flex_flow": null,
            "width": null,
            "min_width": null,
            "border": null,
            "align_items": null,
            "bottom": null,
            "_model_module": "@jupyter-widgets/base",
            "top": null,
            "grid_column": null,
            "overflow_y": null,
            "overflow_x": null,
            "grid_auto_flow": null,
            "grid_area": null,
            "grid_template_columns": null,
            "flex": null,
            "_model_name": "LayoutModel",
            "justify_items": null,
            "grid_row": null,
            "max_height": null,
            "align_content": null,
            "visibility": null,
            "align_self": null,
            "height": null,
            "min_height": null,
            "padding": null,
            "grid_auto_rows": null,
            "grid_gap": null,
            "max_width": null,
            "order": null,
            "_view_module_version": "1.2.0",
            "grid_template_areas": null,
            "object_position": null,
            "object_fit": null,
            "grid_auto_columns": null,
            "margin": null,
            "display": null,
            "left": null
          }
        },
        "01ff085d1686413a9f410f03089a0f69": {
          "model_module": "@jupyter-widgets/controls",
          "model_name": "DescriptionStyleModel",
          "state": {
            "_view_name": "StyleView",
            "_model_name": "DescriptionStyleModel",
            "description_width": "",
            "_view_module": "@jupyter-widgets/base",
            "_model_module_version": "1.5.0",
            "_view_count": null,
            "_view_module_version": "1.2.0",
            "_model_module": "@jupyter-widgets/controls"
          }
        },
        "440e6f5c391a4caea6f13cc94504666c": {
          "model_module": "@jupyter-widgets/base",
          "model_name": "LayoutModel",
          "state": {
            "_view_name": "LayoutView",
            "grid_template_rows": null,
            "right": null,
            "justify_content": null,
            "_view_module": "@jupyter-widgets/base",
            "overflow": null,
            "_model_module_version": "1.2.0",
            "_view_count": null,
            "flex_flow": null,
            "width": null,
            "min_width": null,
            "border": null,
            "align_items": null,
            "bottom": null,
            "_model_module": "@jupyter-widgets/base",
            "top": null,
            "grid_column": null,
            "overflow_y": null,
            "overflow_x": null,
            "grid_auto_flow": null,
            "grid_area": null,
            "grid_template_columns": null,
            "flex": null,
            "_model_name": "LayoutModel",
            "justify_items": null,
            "grid_row": null,
            "max_height": null,
            "align_content": null,
            "visibility": null,
            "align_self": null,
            "height": null,
            "min_height": null,
            "padding": null,
            "grid_auto_rows": null,
            "grid_gap": null,
            "max_width": null,
            "order": null,
            "_view_module_version": "1.2.0",
            "grid_template_areas": null,
            "object_position": null,
            "object_fit": null,
            "grid_auto_columns": null,
            "margin": null,
            "display": null,
            "left": null
          }
        }
      }
    }
  },
  "cells": [
    {
      "cell_type": "markdown",
      "metadata": {
        "id": "NuzaXdkytumz"
      },
      "source": [
        "# Homework №3"
      ]
    },
    {
      "cell_type": "markdown",
      "metadata": {
        "id": "57thqlsotum8"
      },
      "source": [
        "This homework will be dedicated to Keyword Spotting (KWS), streaming and speedup NN."
      ]
    },
    {
      "cell_type": "markdown",
      "metadata": {
        "id": "feqcq6lXtum8"
      },
      "source": [
        "# Data"
      ]
    },
    {
      "cell_type": "code",
      "metadata": {
        "colab": {
          "base_uri": "https://localhost:8080/"
        },
        "id": "b218wsnftum8",
        "outputId": "182a906c-f9d5-49bc-e45c-e4eec4da9ae4"
      },
      "source": [
        "import os\n",
        "datadir = \"speech_commands\"\n",
        "\n",
        "!wget http://download.tensorflow.org/data/speech_commands_v0.01.tar.gz -O speech_commands_v0.01.tar.gz\n",
        "# alternative url: https://www.dropbox.com/s/j95n278g48bcbta/speech_commands_v0.01.tar.gz?dl=1\n",
        "!mkdir {datadir} && tar -C {datadir} -xvzf speech_commands_v0.01.tar.gz 1> log\n",
        "\n",
        "samples_by_target = {\n",
        "    cls: [os.path.join(datadir, cls, name) for name in os.listdir(\"./speech_commands/{}\".format(cls))]\n",
        "    for cls in os.listdir(datadir)\n",
        "    if os.path.isdir(os.path.join(datadir, cls))\n",
        "}\n",
        "print('Classes:', ', '.join(sorted(samples_by_target.keys())[1:]))"
      ],
      "execution_count": 1,
      "outputs": [
        {
          "output_type": "stream",
          "text": [
            "--2020-12-17 15:28:25--  http://download.tensorflow.org/data/speech_commands_v0.01.tar.gz\n",
            "Resolving download.tensorflow.org (download.tensorflow.org)... 172.217.12.240, 2607:f8b0:4004:808::2010\n",
            "Connecting to download.tensorflow.org (download.tensorflow.org)|172.217.12.240|:80... connected.\n",
            "HTTP request sent, awaiting response... 200 OK\n",
            "Length: 1489096277 (1.4G) [application/gzip]\n",
            "Saving to: ‘speech_commands_v0.01.tar.gz’\n",
            "\n",
            "speech_commands_v0. 100%[===================>]   1.39G   179MB/s    in 9.8s    \n",
            "\n",
            "2020-12-17 15:28:35 (144 MB/s) - ‘speech_commands_v0.01.tar.gz’ saved [1489096277/1489096277]\n",
            "\n",
            "Classes: bed, bird, cat, dog, down, eight, five, four, go, happy, house, left, marvin, nine, no, off, on, one, right, seven, sheila, six, stop, three, tree, two, up, wow, yes, zero\n"
          ],
          "name": "stdout"
        }
      ]
    },
    {
      "cell_type": "markdown",
      "metadata": {
        "id": "kYpYEULPtum9"
      },
      "source": [
        "    Choose from 1 to 3 keywords to your liking, and use the rest as negative examples.\n",
        "    We recommend to use sheila and/or marvin."
      ]
    },
    {
      "cell_type": "markdown",
      "metadata": {
        "id": "mT1DX-LOtum9"
      },
      "source": [
        "# Model"
      ]
    },
    {
      "cell_type": "markdown",
      "metadata": {
        "id": "WVFeb2nStum-"
      },
      "source": [
        "    In this homework assignment, you will need to implement a model for finding a keyword in a stream.\n",
        "\n",
        "        1) https://www.dropbox.com/s/22ah2ba7dug6pzw/KWS_Attention.pdf\n",
        "            It is recommended to implement the version with CNN because it is easy and improves the model.\n",
        "\n",
        "        2) What about streaming?\n",
        "           This model works differently during training and inferance.\n",
        "           During training you have some fixed input and you know that it has a keyword (or not).\n",
        "           During the inferance, you read the T frames and make a prediction on them. And the next step is to read the T+1 frame,\n",
        "           run the neural network just for it, and make a prediction based on it and the T-1 of the previous frames.\n",
        "           This way you don't make unnecessary calculations.\n",
        "\n",
        "           So, your model should support streaming mode.\n",
        "           To demonstrate the work in streaming mode, take two random audio tracks of 10-20 seconds and glue them together\n",
        "           so that your keyword will be between them. Run the model through this glued track and draw how the probability of your keyword changing over time.\n",
        "\n",
        "        3) A good KWS is a robust KWS, so we ask you to implement as many augmentations as possible.\n",
        "           (bonus) Download any noise from YouTube and add it as a background noise to the positive data. This helps a lot in real life.\n",
        "           P.S. Use https://www.youtube-dl.org/\n",
        "\n",
        "        4) (bonus) Add more attentions and orthogonality regularization. https://arxiv.org/abs/1910.04500\n",
        "        \n",
        "        5) (bonus) Speedup you model! Implement distillation of your model, for example,\n",
        "            train the LSTM with 256 hidden size and distil it into LSTM with 128 hidden size."
      ]
    },
    {
      "cell_type": "markdown",
      "metadata": {
        "id": "TqZ6QGhttum-"
      },
      "source": [
        "# Code"
      ]
    },
    {
      "cell_type": "markdown",
      "metadata": {
        "id": "gEEMBqgqtum-"
      },
      "source": [
        "    1) In this homework you are allowed to use pytorch-lighting.\n",
        "\n",
        "    2) Try to write code more structurally and cleanly!\n",
        "    \n",
        "    3) Good logging of experiments save your nerves and time, so we ask you to use W&B. Log loss, FA/FR rate or something else.\n",
        "        Do not remove the logs until we have checked your work and given you a grade!\n",
        "    \n",
        "    4) (Bonus) We also ask you to organize your code in github repo with Docker and setup.py. You can use my template https://github.com/markovka17/dl-start-pack.\n",
        "    \n",
        "    5) Your work must be reproducable, so fix seed, save the weights of model, and etc.\n",
        "    \n",
        "    6) In the end of your work write inference utils. Anyone should be able to take your weight, load it into the model and run it on some audio track."
      ]
    },
    {
      "cell_type": "code",
      "metadata": {
        "colab": {
          "base_uri": "https://localhost:8080/"
        },
        "id": "j3KUFzwb53DG",
        "outputId": "e210027a-2956-49ed-954a-639ca2f9cb9b"
      },
      "source": [
        "!pip3 install torchaudio"
      ],
      "execution_count": 2,
      "outputs": [
        {
          "output_type": "stream",
          "text": [
            "Collecting torchaudio\n",
            "\u001b[?25l  Downloading https://files.pythonhosted.org/packages/2a/f9/618434cf4e46dc975871e1516f5499abef6564ab4366f9b2321ee536be14/torchaudio-0.7.2-cp36-cp36m-manylinux1_x86_64.whl (7.6MB)\n",
            "\u001b[K     |████████████████████████████████| 7.6MB 20.0MB/s \n",
            "\u001b[?25hCollecting torch==1.7.1\n",
            "\u001b[?25l  Downloading https://files.pythonhosted.org/packages/90/4f/acf48b3a18a8f9223c6616647f0a011a5713a985336088d7c76f3a211374/torch-1.7.1-cp36-cp36m-manylinux1_x86_64.whl (776.8MB)\n",
            "\u001b[K     |████████████████████████████████| 776.8MB 23kB/s \n",
            "\u001b[?25hRequirement already satisfied: dataclasses; python_version < \"3.7\" in /usr/local/lib/python3.6/dist-packages (from torch==1.7.1->torchaudio) (0.8)\n",
            "Requirement already satisfied: typing-extensions in /usr/local/lib/python3.6/dist-packages (from torch==1.7.1->torchaudio) (3.7.4.3)\n",
            "Requirement already satisfied: numpy in /usr/local/lib/python3.6/dist-packages (from torch==1.7.1->torchaudio) (1.18.5)\n",
            "\u001b[31mERROR: torchvision 0.8.1+cu101 has requirement torch==1.7.0, but you'll have torch 1.7.1 which is incompatible.\u001b[0m\n",
            "Installing collected packages: torch, torchaudio\n",
            "  Found existing installation: torch 1.7.0+cu101\n",
            "    Uninstalling torch-1.7.0+cu101:\n",
            "      Successfully uninstalled torch-1.7.0+cu101\n",
            "Successfully installed torch-1.7.1 torchaudio-0.7.2\n"
          ],
          "name": "stdout"
        }
      ]
    },
    {
      "cell_type": "code",
      "metadata": {
        "colab": {
          "base_uri": "https://localhost:8080/"
        },
        "id": "Hw18-cJ3yZ_O",
        "outputId": "fb6459d1-2147-4eb4-aa6d-30aeb633a846"
      },
      "source": [
        "!pip3 install --upgrade wandb"
      ],
      "execution_count": 3,
      "outputs": [
        {
          "output_type": "stream",
          "text": [
            "Collecting wandb\n",
            "\u001b[?25l  Downloading https://files.pythonhosted.org/packages/ca/5e/9df94df3bfee51b92b54a5e6fa277d6e1fcdf1f27b1872214b98f55ec0f7/wandb-0.10.12-py2.py3-none-any.whl (1.8MB)\n",
            "\r\u001b[K     |▏                               | 10kB 20.0MB/s eta 0:00:01\r\u001b[K     |▍                               | 20kB 26.3MB/s eta 0:00:01\r\u001b[K     |▌                               | 30kB 22.7MB/s eta 0:00:01\r\u001b[K     |▊                               | 40kB 21.5MB/s eta 0:00:01\r\u001b[K     |█                               | 51kB 21.9MB/s eta 0:00:01\r\u001b[K     |█                               | 61kB 16.3MB/s eta 0:00:01\r\u001b[K     |█▎                              | 71kB 16.3MB/s eta 0:00:01\r\u001b[K     |█▌                              | 81kB 16.9MB/s eta 0:00:01\r\u001b[K     |█▋                              | 92kB 15.0MB/s eta 0:00:01\r\u001b[K     |█▉                              | 102kB 16.1MB/s eta 0:00:01\r\u001b[K     |██                              | 112kB 16.1MB/s eta 0:00:01\r\u001b[K     |██▏                             | 122kB 16.1MB/s eta 0:00:01\r\u001b[K     |██▍                             | 133kB 16.1MB/s eta 0:00:01\r\u001b[K     |██▋                             | 143kB 16.1MB/s eta 0:00:01\r\u001b[K     |██▊                             | 153kB 16.1MB/s eta 0:00:01\r\u001b[K     |███                             | 163kB 16.1MB/s eta 0:00:01\r\u001b[K     |███▏                            | 174kB 16.1MB/s eta 0:00:01\r\u001b[K     |███▎                            | 184kB 16.1MB/s eta 0:00:01\r\u001b[K     |███▌                            | 194kB 16.1MB/s eta 0:00:01\r\u001b[K     |███▊                            | 204kB 16.1MB/s eta 0:00:01\r\u001b[K     |███▉                            | 215kB 16.1MB/s eta 0:00:01\r\u001b[K     |████                            | 225kB 16.1MB/s eta 0:00:01\r\u001b[K     |████▎                           | 235kB 16.1MB/s eta 0:00:01\r\u001b[K     |████▍                           | 245kB 16.1MB/s eta 0:00:01\r\u001b[K     |████▋                           | 256kB 16.1MB/s eta 0:00:01\r\u001b[K     |████▉                           | 266kB 16.1MB/s eta 0:00:01\r\u001b[K     |█████                           | 276kB 16.1MB/s eta 0:00:01\r\u001b[K     |█████▏                          | 286kB 16.1MB/s eta 0:00:01\r\u001b[K     |█████▍                          | 296kB 16.1MB/s eta 0:00:01\r\u001b[K     |█████▌                          | 307kB 16.1MB/s eta 0:00:01\r\u001b[K     |█████▊                          | 317kB 16.1MB/s eta 0:00:01\r\u001b[K     |██████                          | 327kB 16.1MB/s eta 0:00:01\r\u001b[K     |██████                          | 337kB 16.1MB/s eta 0:00:01\r\u001b[K     |██████▎                         | 348kB 16.1MB/s eta 0:00:01\r\u001b[K     |██████▌                         | 358kB 16.1MB/s eta 0:00:01\r\u001b[K     |██████▋                         | 368kB 16.1MB/s eta 0:00:01\r\u001b[K     |██████▉                         | 378kB 16.1MB/s eta 0:00:01\r\u001b[K     |███████                         | 389kB 16.1MB/s eta 0:00:01\r\u001b[K     |███████▏                        | 399kB 16.1MB/s eta 0:00:01\r\u001b[K     |███████▍                        | 409kB 16.1MB/s eta 0:00:01\r\u001b[K     |███████▋                        | 419kB 16.1MB/s eta 0:00:01\r\u001b[K     |███████▊                        | 430kB 16.1MB/s eta 0:00:01\r\u001b[K     |████████                        | 440kB 16.1MB/s eta 0:00:01\r\u001b[K     |████████▏                       | 450kB 16.1MB/s eta 0:00:01\r\u001b[K     |████████▎                       | 460kB 16.1MB/s eta 0:00:01\r\u001b[K     |████████▌                       | 471kB 16.1MB/s eta 0:00:01\r\u001b[K     |████████▊                       | 481kB 16.1MB/s eta 0:00:01\r\u001b[K     |████████▉                       | 491kB 16.1MB/s eta 0:00:01\r\u001b[K     |█████████                       | 501kB 16.1MB/s eta 0:00:01\r\u001b[K     |█████████▎                      | 512kB 16.1MB/s eta 0:00:01\r\u001b[K     |█████████▍                      | 522kB 16.1MB/s eta 0:00:01\r\u001b[K     |█████████▋                      | 532kB 16.1MB/s eta 0:00:01\r\u001b[K     |█████████▉                      | 542kB 16.1MB/s eta 0:00:01\r\u001b[K     |██████████                      | 552kB 16.1MB/s eta 0:00:01\r\u001b[K     |██████████▏                     | 563kB 16.1MB/s eta 0:00:01\r\u001b[K     |██████████▎                     | 573kB 16.1MB/s eta 0:00:01\r\u001b[K     |██████████▌                     | 583kB 16.1MB/s eta 0:00:01\r\u001b[K     |██████████▊                     | 593kB 16.1MB/s eta 0:00:01\r\u001b[K     |██████████▉                     | 604kB 16.1MB/s eta 0:00:01\r\u001b[K     |███████████                     | 614kB 16.1MB/s eta 0:00:01\r\u001b[K     |███████████▎                    | 624kB 16.1MB/s eta 0:00:01\r\u001b[K     |███████████▍                    | 634kB 16.1MB/s eta 0:00:01\r\u001b[K     |███████████▋                    | 645kB 16.1MB/s eta 0:00:01\r\u001b[K     |███████████▉                    | 655kB 16.1MB/s eta 0:00:01\r\u001b[K     |████████████                    | 665kB 16.1MB/s eta 0:00:01\r\u001b[K     |████████████▏                   | 675kB 16.1MB/s eta 0:00:01\r\u001b[K     |████████████▍                   | 686kB 16.1MB/s eta 0:00:01\r\u001b[K     |████████████▌                   | 696kB 16.1MB/s eta 0:00:01\r\u001b[K     |████████████▊                   | 706kB 16.1MB/s eta 0:00:01\r\u001b[K     |█████████████                   | 716kB 16.1MB/s eta 0:00:01\r\u001b[K     |█████████████                   | 727kB 16.1MB/s eta 0:00:01\r\u001b[K     |█████████████▎                  | 737kB 16.1MB/s eta 0:00:01\r\u001b[K     |█████████████▌                  | 747kB 16.1MB/s eta 0:00:01\r\u001b[K     |█████████████▋                  | 757kB 16.1MB/s eta 0:00:01\r\u001b[K     |█████████████▉                  | 768kB 16.1MB/s eta 0:00:01\r\u001b[K     |██████████████                  | 778kB 16.1MB/s eta 0:00:01\r\u001b[K     |██████████████▏                 | 788kB 16.1MB/s eta 0:00:01\r\u001b[K     |██████████████▍                 | 798kB 16.1MB/s eta 0:00:01\r\u001b[K     |██████████████▋                 | 808kB 16.1MB/s eta 0:00:01\r\u001b[K     |██████████████▊                 | 819kB 16.1MB/s eta 0:00:01\r\u001b[K     |███████████████                 | 829kB 16.1MB/s eta 0:00:01\r\u001b[K     |███████████████▏                | 839kB 16.1MB/s eta 0:00:01\r\u001b[K     |███████████████▎                | 849kB 16.1MB/s eta 0:00:01\r\u001b[K     |███████████████▌                | 860kB 16.1MB/s eta 0:00:01\r\u001b[K     |███████████████▊                | 870kB 16.1MB/s eta 0:00:01\r\u001b[K     |███████████████▉                | 880kB 16.1MB/s eta 0:00:01\r\u001b[K     |████████████████                | 890kB 16.1MB/s eta 0:00:01\r\u001b[K     |████████████████▎               | 901kB 16.1MB/s eta 0:00:01\r\u001b[K     |████████████████▍               | 911kB 16.1MB/s eta 0:00:01\r\u001b[K     |████████████████▋               | 921kB 16.1MB/s eta 0:00:01\r\u001b[K     |████████████████▉               | 931kB 16.1MB/s eta 0:00:01\r\u001b[K     |█████████████████               | 942kB 16.1MB/s eta 0:00:01\r\u001b[K     |█████████████████▏              | 952kB 16.1MB/s eta 0:00:01\r\u001b[K     |█████████████████▍              | 962kB 16.1MB/s eta 0:00:01\r\u001b[K     |█████████████████▌              | 972kB 16.1MB/s eta 0:00:01\r\u001b[K     |█████████████████▊              | 983kB 16.1MB/s eta 0:00:01\r\u001b[K     |██████████████████              | 993kB 16.1MB/s eta 0:00:01\r\u001b[K     |██████████████████              | 1.0MB 16.1MB/s eta 0:00:01\r\u001b[K     |██████████████████▎             | 1.0MB 16.1MB/s eta 0:00:01\r\u001b[K     |██████████████████▌             | 1.0MB 16.1MB/s eta 0:00:01\r\u001b[K     |██████████████████▋             | 1.0MB 16.1MB/s eta 0:00:01\r\u001b[K     |██████████████████▉             | 1.0MB 16.1MB/s eta 0:00:01\r\u001b[K     |███████████████████             | 1.1MB 16.1MB/s eta 0:00:01\r\u001b[K     |███████████████████▏            | 1.1MB 16.1MB/s eta 0:00:01\r\u001b[K     |███████████████████▍            | 1.1MB 16.1MB/s eta 0:00:01\r\u001b[K     |███████████████████▋            | 1.1MB 16.1MB/s eta 0:00:01\r\u001b[K     |███████████████████▊            | 1.1MB 16.1MB/s eta 0:00:01\r\u001b[K     |████████████████████            | 1.1MB 16.1MB/s eta 0:00:01\r\u001b[K     |████████████████████            | 1.1MB 16.1MB/s eta 0:00:01\r\u001b[K     |████████████████████▎           | 1.1MB 16.1MB/s eta 0:00:01\r\u001b[K     |████████████████████▌           | 1.1MB 16.1MB/s eta 0:00:01\r\u001b[K     |████████████████████▋           | 1.1MB 16.1MB/s eta 0:00:01\r\u001b[K     |████████████████████▉           | 1.2MB 16.1MB/s eta 0:00:01\r\u001b[K     |█████████████████████           | 1.2MB 16.1MB/s eta 0:00:01\r\u001b[K     |█████████████████████▏          | 1.2MB 16.1MB/s eta 0:00:01\r\u001b[K     |█████████████████████▍          | 1.2MB 16.1MB/s eta 0:00:01\r\u001b[K     |█████████████████████▋          | 1.2MB 16.1MB/s eta 0:00:01\r\u001b[K     |█████████████████████▊          | 1.2MB 16.1MB/s eta 0:00:01\r\u001b[K     |██████████████████████          | 1.2MB 16.1MB/s eta 0:00:01\r\u001b[K     |██████████████████████▏         | 1.2MB 16.1MB/s eta 0:00:01\r\u001b[K     |██████████████████████▎         | 1.2MB 16.1MB/s eta 0:00:01\r\u001b[K     |██████████████████████▌         | 1.2MB 16.1MB/s eta 0:00:01\r\u001b[K     |██████████████████████▊         | 1.3MB 16.1MB/s eta 0:00:01\r\u001b[K     |██████████████████████▉         | 1.3MB 16.1MB/s eta 0:00:01\r\u001b[K     |███████████████████████         | 1.3MB 16.1MB/s eta 0:00:01\r\u001b[K     |███████████████████████▎        | 1.3MB 16.1MB/s eta 0:00:01\r\u001b[K     |███████████████████████▍        | 1.3MB 16.1MB/s eta 0:00:01\r\u001b[K     |███████████████████████▋        | 1.3MB 16.1MB/s eta 0:00:01\r\u001b[K     |███████████████████████▉        | 1.3MB 16.1MB/s eta 0:00:01\r\u001b[K     |████████████████████████        | 1.3MB 16.1MB/s eta 0:00:01\r\u001b[K     |████████████████████████▏       | 1.3MB 16.1MB/s eta 0:00:01\r\u001b[K     |████████████████████████▍       | 1.4MB 16.1MB/s eta 0:00:01\r\u001b[K     |████████████████████████▌       | 1.4MB 16.1MB/s eta 0:00:01\r\u001b[K     |████████████████████████▊       | 1.4MB 16.1MB/s eta 0:00:01\r\u001b[K     |█████████████████████████       | 1.4MB 16.1MB/s eta 0:00:01\r\u001b[K     |█████████████████████████       | 1.4MB 16.1MB/s eta 0:00:01\r\u001b[K     |█████████████████████████▎      | 1.4MB 16.1MB/s eta 0:00:01\r\u001b[K     |█████████████████████████▌      | 1.4MB 16.1MB/s eta 0:00:01\r\u001b[K     |█████████████████████████▋      | 1.4MB 16.1MB/s eta 0:00:01\r\u001b[K     |█████████████████████████▉      | 1.4MB 16.1MB/s eta 0:00:01\r\u001b[K     |██████████████████████████      | 1.4MB 16.1MB/s eta 0:00:01\r\u001b[K     |██████████████████████████▏     | 1.5MB 16.1MB/s eta 0:00:01\r\u001b[K     |██████████████████████████▍     | 1.5MB 16.1MB/s eta 0:00:01\r\u001b[K     |██████████████████████████▋     | 1.5MB 16.1MB/s eta 0:00:01\r\u001b[K     |██████████████████████████▊     | 1.5MB 16.1MB/s eta 0:00:01\r\u001b[K     |███████████████████████████     | 1.5MB 16.1MB/s eta 0:00:01\r\u001b[K     |███████████████████████████▏    | 1.5MB 16.1MB/s eta 0:00:01\r\u001b[K     |███████████████████████████▎    | 1.5MB 16.1MB/s eta 0:00:01\r\u001b[K     |███████████████████████████▌    | 1.5MB 16.1MB/s eta 0:00:01\r\u001b[K     |███████████████████████████▊    | 1.5MB 16.1MB/s eta 0:00:01\r\u001b[K     |███████████████████████████▉    | 1.5MB 16.1MB/s eta 0:00:01\r\u001b[K     |████████████████████████████    | 1.6MB 16.1MB/s eta 0:00:01\r\u001b[K     |████████████████████████████▎   | 1.6MB 16.1MB/s eta 0:00:01\r\u001b[K     |████████████████████████████▍   | 1.6MB 16.1MB/s eta 0:00:01\r\u001b[K     |████████████████████████████▋   | 1.6MB 16.1MB/s eta 0:00:01\r\u001b[K     |████████████████████████████▉   | 1.6MB 16.1MB/s eta 0:00:01\r\u001b[K     |█████████████████████████████   | 1.6MB 16.1MB/s eta 0:00:01\r\u001b[K     |█████████████████████████████▏  | 1.6MB 16.1MB/s eta 0:00:01\r\u001b[K     |█████████████████████████████▍  | 1.6MB 16.1MB/s eta 0:00:01\r\u001b[K     |█████████████████████████████▌  | 1.6MB 16.1MB/s eta 0:00:01\r\u001b[K     |█████████████████████████████▊  | 1.6MB 16.1MB/s eta 0:00:01\r\u001b[K     |█████████████████████████████▉  | 1.7MB 16.1MB/s eta 0:00:01\r\u001b[K     |██████████████████████████████  | 1.7MB 16.1MB/s eta 0:00:01\r\u001b[K     |██████████████████████████████▎ | 1.7MB 16.1MB/s eta 0:00:01\r\u001b[K     |██████████████████████████████▍ | 1.7MB 16.1MB/s eta 0:00:01\r\u001b[K     |██████████████████████████████▋ | 1.7MB 16.1MB/s eta 0:00:01\r\u001b[K     |██████████████████████████████▉ | 1.7MB 16.1MB/s eta 0:00:01\r\u001b[K     |███████████████████████████████ | 1.7MB 16.1MB/s eta 0:00:01\r\u001b[K     |███████████████████████████████▏| 1.7MB 16.1MB/s eta 0:00:01\r\u001b[K     |███████████████████████████████▍| 1.7MB 16.1MB/s eta 0:00:01\r\u001b[K     |███████████████████████████████▌| 1.8MB 16.1MB/s eta 0:00:01\r\u001b[K     |███████████████████████████████▊| 1.8MB 16.1MB/s eta 0:00:01\r\u001b[K     |████████████████████████████████| 1.8MB 16.1MB/s eta 0:00:01\r\u001b[K     |████████████████████████████████| 1.8MB 16.1MB/s \n",
            "\u001b[?25hRequirement already satisfied, skipping upgrade: Click>=7.0 in /usr/local/lib/python3.6/dist-packages (from wandb) (7.1.2)\n",
            "Requirement already satisfied, skipping upgrade: six>=1.13.0 in /usr/local/lib/python3.6/dist-packages (from wandb) (1.15.0)\n",
            "Requirement already satisfied, skipping upgrade: promise<3,>=2.0 in /usr/local/lib/python3.6/dist-packages (from wandb) (2.3)\n",
            "Collecting configparser>=3.8.1\n",
            "  Downloading https://files.pythonhosted.org/packages/08/b2/ef713e0e67f6e7ec7d59aea3ee78d05b39c15930057e724cc6d362a8c3bb/configparser-5.0.1-py3-none-any.whl\n",
            "Collecting shortuuid>=0.5.0\n",
            "  Downloading https://files.pythonhosted.org/packages/25/a6/2ecc1daa6a304e7f1b216f0896b26156b78e7c38e1211e9b798b4716c53d/shortuuid-1.0.1-py3-none-any.whl\n",
            "Requirement already satisfied, skipping upgrade: python-dateutil>=2.6.1 in /usr/local/lib/python3.6/dist-packages (from wandb) (2.8.1)\n",
            "Collecting docker-pycreds>=0.4.0\n",
            "  Downloading https://files.pythonhosted.org/packages/f5/e8/f6bd1eee09314e7e6dee49cbe2c5e22314ccdb38db16c9fc72d2fa80d054/docker_pycreds-0.4.0-py2.py3-none-any.whl\n",
            "Collecting subprocess32>=3.5.3\n",
            "\u001b[?25l  Downloading https://files.pythonhosted.org/packages/32/c8/564be4d12629b912ea431f1a50eb8b3b9d00f1a0b1ceff17f266be190007/subprocess32-3.5.4.tar.gz (97kB)\n",
            "\u001b[K     |████████████████████████████████| 102kB 11.5MB/s \n",
            "\u001b[?25hRequirement already satisfied, skipping upgrade: requests<3,>=2.0.0 in /usr/local/lib/python3.6/dist-packages (from wandb) (2.23.0)\n",
            "Requirement already satisfied, skipping upgrade: protobuf>=3.12.0 in /usr/local/lib/python3.6/dist-packages (from wandb) (3.12.4)\n",
            "Collecting GitPython>=1.0.0\n",
            "\u001b[?25l  Downloading https://files.pythonhosted.org/packages/24/d1/a7f8fe3df258549b303415157328bfcc63e9b11d06a7ad7a3327f3d32606/GitPython-3.1.11-py3-none-any.whl (159kB)\n",
            "\u001b[K     |████████████████████████████████| 163kB 45.1MB/s \n",
            "\u001b[?25hRequirement already satisfied, skipping upgrade: PyYAML in /usr/local/lib/python3.6/dist-packages (from wandb) (3.13)\n",
            "Requirement already satisfied, skipping upgrade: psutil>=5.0.0 in /usr/local/lib/python3.6/dist-packages (from wandb) (5.4.8)\n",
            "Collecting sentry-sdk>=0.4.0\n",
            "\u001b[?25l  Downloading https://files.pythonhosted.org/packages/b1/5c/018bf9a5c24343a664deaea70e61f33f53bb1bd3caf193110f827bfd07e2/sentry_sdk-0.19.5-py2.py3-none-any.whl (128kB)\n",
            "\u001b[K     |████████████████████████████████| 133kB 51.2MB/s \n",
            "\u001b[?25hCollecting watchdog>=0.8.3\n",
            "\u001b[?25l  Downloading https://files.pythonhosted.org/packages/e6/76/39d123d37908a772b6a281d85fbb4384d9db7e13d19d10ad409006bd2962/watchdog-1.0.1.tar.gz (97kB)\n",
            "\u001b[K     |████████████████████████████████| 102kB 12.3MB/s \n",
            "\u001b[?25hRequirement already satisfied, skipping upgrade: certifi>=2017.4.17 in /usr/local/lib/python3.6/dist-packages (from requests<3,>=2.0.0->wandb) (2020.12.5)\n",
            "Requirement already satisfied, skipping upgrade: idna<3,>=2.5 in /usr/local/lib/python3.6/dist-packages (from requests<3,>=2.0.0->wandb) (2.10)\n",
            "Requirement already satisfied, skipping upgrade: urllib3!=1.25.0,!=1.25.1,<1.26,>=1.21.1 in /usr/local/lib/python3.6/dist-packages (from requests<3,>=2.0.0->wandb) (1.24.3)\n",
            "Requirement already satisfied, skipping upgrade: chardet<4,>=3.0.2 in /usr/local/lib/python3.6/dist-packages (from requests<3,>=2.0.0->wandb) (3.0.4)\n",
            "Requirement already satisfied, skipping upgrade: setuptools in /usr/local/lib/python3.6/dist-packages (from protobuf>=3.12.0->wandb) (50.3.2)\n",
            "Collecting gitdb<5,>=4.0.1\n",
            "\u001b[?25l  Downloading https://files.pythonhosted.org/packages/48/11/d1800bca0a3bae820b84b7d813ad1eff15a48a64caea9c823fc8c1b119e8/gitdb-4.0.5-py3-none-any.whl (63kB)\n",
            "\u001b[K     |████████████████████████████████| 71kB 9.1MB/s \n",
            "\u001b[?25hCollecting smmap<4,>=3.0.1\n",
            "  Downloading https://files.pythonhosted.org/packages/b0/9a/4d409a6234eb940e6a78dfdfc66156e7522262f5f2fecca07dc55915952d/smmap-3.0.4-py2.py3-none-any.whl\n",
            "Building wheels for collected packages: subprocess32, watchdog\n",
            "  Building wheel for subprocess32 (setup.py) ... \u001b[?25l\u001b[?25hdone\n",
            "  Created wheel for subprocess32: filename=subprocess32-3.5.4-cp36-none-any.whl size=6489 sha256=03fb3f19b0eddfc13c20d0fe29f0aa968a5b7ac33fd9d80ac567e861a53ca4de\n",
            "  Stored in directory: /root/.cache/pip/wheels/68/39/1a/5e402bdfdf004af1786c8b853fd92f8c4a04f22aad179654d1\n",
            "  Building wheel for watchdog (setup.py) ... \u001b[?25l\u001b[?25hdone\n",
            "  Created wheel for watchdog: filename=watchdog-1.0.1-cp36-none-any.whl size=72206 sha256=da15f5cddfd91bd524469d2e3da1265816697b5be5fc6060936ea9714372fba2\n",
            "  Stored in directory: /root/.cache/pip/wheels/d8/ce/d8/31a48288b5728794feda5ac479fa324cc1cde4398c29eff064\n",
            "Successfully built subprocess32 watchdog\n",
            "Installing collected packages: configparser, shortuuid, docker-pycreds, subprocess32, smmap, gitdb, GitPython, sentry-sdk, watchdog, wandb\n",
            "Successfully installed GitPython-3.1.11 configparser-5.0.1 docker-pycreds-0.4.0 gitdb-4.0.5 sentry-sdk-0.19.5 shortuuid-1.0.1 smmap-3.0.4 subprocess32-3.5.4 wandb-0.10.12 watchdog-1.0.1\n"
          ],
          "name": "stdout"
        }
      ]
    },
    {
      "cell_type": "code",
      "metadata": {
        "id": "oT-7zRGfu8j6",
        "colab": {
          "base_uri": "https://localhost:8080/"
        },
        "outputId": "51f3f443-37a2-4e46-a56a-4f6ba9a5d519"
      },
      "source": [
        "from torch.utils.data import Dataset, DataLoader\n",
        "import torch\n",
        "import torch.nn as nn\n",
        "from torch.nn.utils.rnn import pad_sequence\n",
        "from tqdm import tqdm\n",
        "import torchaudio\n",
        "from torchaudio.transforms import FrequencyMasking, TimeMasking, MelSpectrogram\n",
        "import os\n",
        "import numpy as np\n",
        "import random\n",
        "from torch.optim import Adam\n",
        "import torch.nn.functional as F\n",
        "from torch.utils.data import WeightedRandomSampler"
      ],
      "execution_count": 4,
      "outputs": [
        {
          "output_type": "stream",
          "text": [
            "/usr/local/lib/python3.6/dist-packages/torchaudio/backend/utils.py:54: UserWarning: \"sox\" backend is being deprecated. The default backend will be changed to \"sox_io\" backend in 0.8.0 and \"sox\" backend will be removed in 0.9.0. Please migrate to \"sox_io\" backend. Please refer to https://github.com/pytorch/audio/issues/903 for the detail.\n",
            "  '\"sox\" backend is being deprecated. '\n"
          ],
          "name": "stderr"
        }
      ]
    },
    {
      "cell_type": "code",
      "metadata": {
        "id": "nhwF0TzmC_KU"
      },
      "source": [
        "def set_seed(n):\n",
        "    torch.backends.cudnn.deterministic = True\n",
        "    torch.manual_seed = n\n",
        "    random.seed(n)\n",
        "    np.random.seed(n)"
      ],
      "execution_count": 5,
      "outputs": []
    },
    {
      "cell_type": "code",
      "metadata": {
        "colab": {
          "base_uri": "https://localhost:8080/"
        },
        "id": "cbsG5xOJxIyQ",
        "outputId": "54103768-edc8-457c-c2eb-9a92d236afa2"
      },
      "source": [
        "names = []\n",
        "words = []\n",
        "lbls = []\n",
        "noises = []\n",
        "for wv in tqdm(samples_by_target.keys()):\n",
        "    if wv != '_background_noise_':\n",
        "        for sample in samples_by_target[wv]:\n",
        "            word = sample.split('/')[1]\n",
        "            if word == 'sheila':\n",
        "                lbl = 1\n",
        "            else:\n",
        "                lbl = 0\n",
        "            names.append(sample)\n",
        "            words.append(word)\n",
        "            lbls.append(lbl)\n",
        "    else:\n",
        "        for noise in samples_by_target[wv]:\n",
        "            if 'README' not in noise:\n",
        "              noises.append(noise)\n",
        "names = np.array(names)\n",
        "lbls = np.array(lbls)\n",
        "words = np.array(words)"
      ],
      "execution_count": 6,
      "outputs": [
        {
          "output_type": "stream",
          "text": [
            "100%|██████████| 31/31 [00:00<00:00, 693.14it/s]\n"
          ],
          "name": "stderr"
        }
      ]
    },
    {
      "cell_type": "code",
      "metadata": {
        "id": "WQN8jGD0upo7"
      },
      "source": [
        "class CommandsDataset(torch.utils.data.Dataset):\n",
        "\n",
        "    def __init__(self, root_dir, wavs, labels, words, transform=None):\n",
        "        self.root_dir = root_dir\n",
        "        self.wavs=wavs\n",
        "        self.labels=labels\n",
        "        self.words=words\n",
        "        self.transform = transform\n",
        "        \n",
        "\n",
        "    def __len__(self):\n",
        "        return len(self.labels)\n",
        "    \n",
        "\n",
        "    def __getitem__(self, idx):\n",
        "        if torch.is_tensor(idx):\n",
        "            idx = idx.tolist()\n",
        "        wav_file = os.path.join(self.root_dir,\n",
        "                                self.wavs[idx])\n",
        "        \n",
        "        wav = torchaudio.load(wav_file)[0][0]\n",
        "        lbl = self.labels[idx]\n",
        "        word = self.words[idx]\n",
        "        \n",
        "        \n",
        "        if self.transform:\n",
        "            wav = self.transform(wav)\n",
        "\n",
        "        sample = [wav, lbl, word]\n",
        "        return sample\n",
        "\n",
        "\n"
      ],
      "execution_count": 7,
      "outputs": []
    },
    {
      "cell_type": "code",
      "metadata": {
        "id": "nRFBAIt2xkyW"
      },
      "source": [
        "class LogMelSpectrogram(nn.Module):\n",
        "\n",
        "    def __init__(self, sample_rate: int = 16000, n_mels: int = 40, masking=True):\n",
        "        super(LogMelSpectrogram, self).__init__()\n",
        "        self.transform = MelSpectrogram(sample_rate=sample_rate, n_mels=n_mels, n_fft=1024, hop_length=256, f_min=0, f_max=8000)\n",
        "        self.masking=masking\n",
        "        if masking:\n",
        "          self.freq_masking = FrequencyMasking(freq_mask_param=10)\n",
        "          self.time_masking = TimeMasking(time_mask_param=30)\n",
        "\n",
        "    def forward(self, waveform: torch.Tensor) -> torch.Tensor:\n",
        "        spectrogram = self.transform(waveform).squeeze()\n",
        "        if self.masking:\n",
        "          spectrogram = self.freq_masking(spectrogram)\n",
        "          spectrogram = self.time_masking(spectrogram)\n",
        "\n",
        "        return torch.log(spectrogram + 1e-9)\n",
        "\n",
        "\n",
        "class Noiser(object):\n",
        "    def __init__(self, noises_list, alpha_low=0.0001, alpha_high=0.0003, p=1.0):\n",
        "        self.a_low = alpha_low\n",
        "        self.a_high=alpha_high\n",
        "        self.noises_list = noises_list\n",
        "\n",
        "    def __call__(self, wav):\n",
        "        noise_name = self.noises_list[np.random.randint(low=0, high=len(self.noises_list))]\n",
        "        noise = torchaudio.load(noise_name)[0][0]\n",
        "        l = np.random.randint(low=0, high=len(noise)-len(wav)-1)\n",
        "        r = l+len(wav)\n",
        "        noise = noise[l:r]\n",
        "        alpha = np.random.uniform(low=0.0001, high=0.0003)\n",
        "        wav = wav + wav*alpha\n",
        "        wav.clamp_(-1, 1)\n",
        "        return wav\n",
        "\n",
        "def my_collate(data):\n",
        "    wav_batch=[]\n",
        "    lbls = []\n",
        "    for sample in data:\n",
        "      wav_batch.append(sample[0])\n",
        "      lbls.append(sample[1])\n",
        "    wav_batch=pad_sequence(wav_batch, batch_first=True)\n",
        "    lbls=torch.tensor(lbls)\n",
        "    return wav_batch, lbls\n",
        "\n",
        "def my_sampler(target):\n",
        "    class_sample_count = np.array([len(np.where(target == t)[0]) for t in np.unique(target)])\n",
        "    weight = 1. / class_sample_count\n",
        "    samples_weight = np.array([weight[t] for t in target])\n",
        "\n",
        "    samples_weight = torch.from_numpy(samples_weight)\n",
        "    samples_weigth = samples_weight.double()\n",
        "    sampler = WeightedRandomSampler(samples_weight, len(samples_weight))\n",
        "    return sampler\n",
        "\n"
      ],
      "execution_count": 8,
      "outputs": []
    },
    {
      "cell_type": "code",
      "metadata": {
        "id": "5P0pIdcIGSvC"
      },
      "source": [
        "class Attention(nn.Module):\n",
        "    def __init__(self, inn, linn, n_classes):\n",
        "        super(Attention, self).__init__()\n",
        "        self.Wxb = nn.Linear(inn, inn)\n",
        "        self.Vt = nn.Linear(inn, 1, bias=False)\n",
        "        self.t = nn.Tanh()\n",
        "\n",
        "        self.out = nn.Linear(linn, n_classes, bias=False)\n",
        "        self.sftmx = nn.Softmax(dim=-1)\n",
        "        self.lsftmx = nn.LogSoftmax(dim=-1)\n",
        "\n",
        "    def forward(self, x):\n",
        "        apl_a = []\n",
        "        for x_ in x:\n",
        "          x_ = self.Wxb(x_)\n",
        "          x_ = self.t(x_)\n",
        "          x_ = self.Vt(x_)\n",
        "          apl_a.append(x_)\n",
        "        apl_a = torch.cat(apl_a, dim=1)\n",
        "        x = x.transpose(0, 1)\n",
        "        apl_a = self.sftmx(apl_a).unsqueeze(1)\n",
        "        res = torch.bmm(apl_a, x).squeeze()\n",
        "        res = self.lsftmx(self.out(res))\n",
        "        return res\n",
        "\n"
      ],
      "execution_count": 9,
      "outputs": []
    },
    {
      "cell_type": "code",
      "metadata": {
        "id": "75kDhTkc7Viy"
      },
      "source": [
        "class AtnCRNN(nn.Module):\n",
        "    def __init__(self, inn, hidden, num_layers, device, n_classes=2, nd=2):\n",
        "        super(AtnCRNN, self).__init__()\n",
        "        self.conv5 = nn.Conv1d(inn, inn, kernel_size=5, stride=2, dilation=1, groups=inn)\n",
        "        self.conv20 = nn.Conv1d(inn, hidden, kernel_size=1, stride=8, groups=int(inn/20))\n",
        "\n",
        "        self.rnn = nn.GRU(hidden, hidden, num_layers=num_layers, dropout=0.1, bidirectional=True)\n",
        "        self.num_layers=num_layers\n",
        "        self.hidden=hidden\n",
        "        self.device=device\n",
        "        self.attention = Attention(hidden*2, hidden*nd, n_classes)\n",
        "\n",
        "    def forward(self, x):\n",
        "        h = torch.zeros(self.num_layers*2, x.shape[0], self.hidden).to(self.device)\n",
        "        x = self.conv5(x)\n",
        "        x = self.conv20(x)\n",
        "        x = x.permute(2, 0, 1)\n",
        "        #print(x.shape)\n",
        "        \n",
        "        x, hidn = self.rnn(x, h)\n",
        "        x = self.attention(x)\n",
        "        return x"
      ],
      "execution_count": 10,
      "outputs": []
    },
    {
      "cell_type": "code",
      "metadata": {
        "id": "kg1oIzVcxD0U"
      },
      "source": [
        "from sklearn.metrics import accuracy_score\n",
        "\n",
        "def FAFR_scores(preds, targets):\n",
        "    FA = sum(preds[targets == 0])/len(targets)\n",
        "    FR = sum(targets[preds == 0])/len(targets)\n",
        "    return FA, FR"
      ],
      "execution_count": 11,
      "outputs": []
    },
    {
      "cell_type": "code",
      "metadata": {
        "id": "k1D_EgqK_-cv"
      },
      "source": [
        "def count_parameters(model):\n",
        "    model_parameters = filter(lambda p: p.requires_grad, model.parameters())\n",
        "    return sum([np.prod(p.size()) for p in model_parameters])"
      ],
      "execution_count": 12,
      "outputs": []
    },
    {
      "cell_type": "code",
      "metadata": {
        "id": "pFBTu1I_C5wT",
        "colab": {
          "base_uri": "https://localhost:8080/"
        },
        "outputId": "2c0acfcb-bad7-4249-d445-e073b99e9f64"
      },
      "source": [
        "set_seed(42)\n",
        "\n",
        "#wandb.init(project=\"dla-homework-2\")\n",
        "\n",
        "device = torch.device('cuda' if torch.cuda.is_available() else 'cpu')"
      ],
      "execution_count": 13,
      "outputs": [
        {
          "output_type": "stream",
          "text": [
            "/usr/local/lib/python3.6/dist-packages/torch/cuda/__init__.py:52: UserWarning: CUDA initialization: The NVIDIA driver on your system is too old (found version 10010). Please update your GPU driver by downloading and installing a new version from the URL: http://www.nvidia.com/Download/index.aspx Alternatively, go to: https://pytorch.org to install a PyTorch version that has been compiled with your version of the CUDA driver. (Triggered internally at  /pytorch/c10/cuda/CUDAFunctions.cpp:100.)\n",
            "  return torch._C._cuda_getDeviceCount() > 0\n"
          ],
          "name": "stderr"
        }
      ]
    },
    {
      "cell_type": "code",
      "metadata": {
        "id": "TteKvako_-3I"
      },
      "source": [
        "root_dir='/content'\n",
        "\n",
        "#dataset = CommandsDataset(root_dir, names, lbls, words, transform=Noiser(noises_list=noises))\n",
        "train_len = int(len(lbls)*0.8)\n",
        "\n",
        "idxs = np.array(range(len(lbls)))\n",
        "np.random.shuffle(idxs)\n",
        "\n",
        "train_names = names[idxs[:train_len]]\n",
        "train_lbls = lbls[idxs[:train_len]]\n",
        "train_words = words[idxs[:train_len]]\n",
        "train = CommandsDataset(root_dir, train_names, train_lbls, train_words, transform=Noiser(noises_list=noises))\n",
        "#train, val = torch.utils.data.random_split(dataset, (train_len, val_len))\n",
        "\n",
        "val_names = names[idxs[train_len:]]\n",
        "val_lbls = lbls[idxs[train_len:]]\n",
        "val_words = words[idxs[train_len:]]\n",
        "val = CommandsDataset(root_dir, val_names, val_lbls, val_words, transform=Noiser(noises_list=noises))"
      ],
      "execution_count": 14,
      "outputs": []
    },
    {
      "cell_type": "code",
      "metadata": {
        "id": "IpzWH-pgDR6d"
      },
      "source": [
        "train_sampler = my_sampler(train_lbls)\n",
        "val_sampler   = my_sampler(val_lbls)"
      ],
      "execution_count": 15,
      "outputs": []
    },
    {
      "cell_type": "code",
      "metadata": {
        "id": "FB4MvtSVA5xj"
      },
      "source": [
        "batch_size=256\n",
        "n_mels=40\n",
        "\n",
        "train_loader = DataLoader(train, batch_size=batch_size, sampler=train_sampler, collate_fn=my_collate)\n",
        "\n",
        "val_loader = DataLoader(val, batch_size=batch_size, sampler=val_sampler, collate_fn=my_collate)"
      ],
      "execution_count": 16,
      "outputs": []
    },
    {
      "cell_type": "code",
      "metadata": {
        "id": "2JwKkSKgCoE9"
      },
      "source": [
        "melspec = LogMelSpectrogram(n_mels=n_mels).to(device)\n",
        "melspec_val = LogMelSpectrogram(n_mels=n_mels, masking=False).to(device)"
      ],
      "execution_count": 17,
      "outputs": []
    },
    {
      "cell_type": "code",
      "metadata": {
        "id": "a99tNhdFPPJc"
      },
      "source": [
        "model=AtnCRNN(n_mels, 128, 2, device).to(device)\n",
        "lr=0.001\n",
        "optimizer = Adam(model.parameters(), lr=lr, weight_decay=1e-5)\n"
      ],
      "execution_count": null,
      "outputs": []
    },
    {
      "cell_type": "markdown",
      "metadata": {
        "id": "2bIp9NtebXpr"
      },
      "source": [
        "# Training"
      ]
    },
    {
      "cell_type": "code",
      "metadata": {
        "colab": {
          "base_uri": "https://localhost:8080/",
          "height": 216
        },
        "id": "NoFlAml2P_S_",
        "outputId": "a9e81ec7-5278-45dc-d57a-8b2d05bf70be"
      },
      "source": [
        "!wandb login 775938aec8c62054ff1f1878906f5cdcc20ee0e2\n",
        "import wandb\n",
        "wandb.init(project=\"dla-hw-3\")\n",
        "wandb.watch(model)"
      ],
      "execution_count": null,
      "outputs": [
        {
          "output_type": "stream",
          "text": [
            "\u001b[34m\u001b[1mwandb\u001b[0m: Appending key for api.wandb.ai to your netrc file: /root/.netrc\n"
          ],
          "name": "stdout"
        },
        {
          "output_type": "stream",
          "text": [
            "\u001b[34m\u001b[1mwandb\u001b[0m: Currently logged in as: \u001b[33mcaptain_doggo\u001b[0m (use `wandb login --relogin` to force relogin)\n"
          ],
          "name": "stderr"
        },
        {
          "output_type": "display_data",
          "data": {
            "text/html": [
              "\n",
              "                Tracking run with wandb version 0.10.12<br/>\n",
              "                Syncing run <strong style=\"color:#cdcd00\">bright-planet-1</strong> to <a href=\"https://wandb.ai\" target=\"_blank\">Weights & Biases</a> <a href=\"https://docs.wandb.com/integrations/jupyter.html\" target=\"_blank\">(Documentation)</a>.<br/>\n",
              "                Project page: <a href=\"https://wandb.ai/captain_doggo/dla-hw-3\" target=\"_blank\">https://wandb.ai/captain_doggo/dla-hw-3</a><br/>\n",
              "                Run page: <a href=\"https://wandb.ai/captain_doggo/dla-hw-3/runs/3t96qvum\" target=\"_blank\">https://wandb.ai/captain_doggo/dla-hw-3/runs/3t96qvum</a><br/>\n",
              "                Run data is saved locally in <code>/content/wandb/run-20201216_103814-3t96qvum</code><br/><br/>\n",
              "            "
            ],
            "text/plain": [
              "<IPython.core.display.HTML object>"
            ]
          },
          "metadata": {
            "tags": []
          }
        },
        {
          "output_type": "execute_result",
          "data": {
            "text/plain": [
              "[<wandb.wandb_torch.TorchGraph at 0x7fec1361a4a8>]"
            ]
          },
          "metadata": {
            "tags": []
          },
          "execution_count": 117
        }
      ]
    },
    {
      "cell_type": "code",
      "metadata": {
        "colab": {
          "base_uri": "https://localhost:8080/",
          "height": 1000,
          "referenced_widgets": [
            "721451d4414547d59c2b2398e82a4836",
            "8fb995f61d39470dacc345fc092fceaf",
            "4d83a4fa19de47f5b9420a9385f21dae",
            "6e3d1cd732a546e1b47c3e71b9a1780c",
            "e8c17514edeb4450819177bb2b8b3a41",
            "6029df1b06914199a4bd89c37002b767",
            "858f0d0769e94cc5bde6238362345f84",
            "50aa904b90e74d07b407d13b0522400c"
          ]
        },
        "id": "qT2Kx20oAOn_",
        "outputId": "ff5377d6-c02f-4b68-9ada-0584ba6e75ad"
      },
      "source": [
        "from tqdm import tqdm_notebook\n",
        "\n",
        "epochs = 40\n",
        "pbar = tqdm_notebook(total = epochs*(len(train)//batch_size))\n",
        "for epoch in range(epochs):\n",
        "  running_loss=0.0\n",
        "  val_loss=0.0\n",
        "  ctr=0\n",
        "  val_ctr=0\n",
        "  model.train()\n",
        "  for batch in train_loader:\n",
        "    X, y = batch\n",
        "    X = X.to(device)\n",
        "    y = y.to(device)\n",
        "    X_mel = melspec(X)\n",
        "\n",
        "    optimizer.zero_grad()\n",
        "\n",
        "    pred = model(X_mel)\n",
        "    loss = F.nll_loss(pred, y)\n",
        "    running_loss+=loss.item()\n",
        "    loss.backward()\n",
        "    torch.nn.utils.clip_grad_norm_(model.parameters(), 5)\n",
        "\n",
        "    optimizer.step()\n",
        "    ctr+=1\n",
        "    pbar.update(1)\n",
        "  \n",
        "  model.eval()\n",
        "  val_preds = []\n",
        "  true = []\n",
        "  for batch in val_loader:\n",
        "    X, y = batch\n",
        "    X = X.to(device)\n",
        "    y = y.to(device)\n",
        "    X_mel = melspec_val(X)\n",
        "    with torch.no_grad():\n",
        "      pred = model(X_mel)\n",
        "      loss = F.nll_loss(pred, y)\n",
        "      val_loss+=loss.item()\n",
        "    pred = (torch.argmax(pred, dim=1)).cpu()\n",
        "    val_preds.extend(pred.tolist())\n",
        "    true.extend(y.cpu().tolist())\n",
        "    val_ctr+=1\n",
        "  val_preds =np.array(val_preds)\n",
        "  true = np.array(true)\n",
        "  FA, FR = FAFR_scores(val_preds, true)\n",
        "  acc = accuracy_score(true, val_preds)\n",
        "  wandb.log({'train loss':running_loss/ctr, 'val loss':val_loss/val_ctr, 'val FA':FA, 'val FR':FR, 'val acc':acc})\n",
        "  print('train loss', running_loss/ctr, 'val loss', val_loss/val_ctr, 'val FA', FA, 'val FR', FR, 'val acc', acc)\n",
        "\n",
        "\n",
        "pbar.close()"
      ],
      "execution_count": null,
      "outputs": [
        {
          "output_type": "stream",
          "text": [
            "/usr/local/lib/python3.6/dist-packages/ipykernel_launcher.py:4: TqdmDeprecationWarning: This function will be removed in tqdm==5.0.0\n",
            "Please use `tqdm.notebook.tqdm` instead of `tqdm.tqdm_notebook`\n",
            "  after removing the cwd from sys.path.\n"
          ],
          "name": "stderr"
        },
        {
          "output_type": "display_data",
          "data": {
            "application/vnd.jupyter.widget-view+json": {
              "model_id": "721451d4414547d59c2b2398e82a4836",
              "version_minor": 0,
              "version_major": 2
            },
            "text/plain": [
              "HBox(children=(FloatProgress(value=0.0, max=8080.0), HTML(value='')))"
            ]
          },
          "metadata": {
            "tags": []
          }
        },
        {
          "output_type": "stream",
          "text": [
            "train loss 0.6054163586917182 val loss 0.3603630451595082 val FA 0.08953263808420239 val FR 0.04990343762070298 val acc 0.8605639242950947\n",
            "train loss 0.5315543764036864 val loss 0.34648051624204595 val FA 0.1164156044804944 val FR 0.020393974507531866 val acc 0.8631904210119737\n",
            "train loss 0.49767975421081034 val loss 0.2462168105092703 val FA 0.052220934723831595 val FR 0.04380069524913094 val acc 0.9039783700270375\n",
            "train loss 0.4600298119883232 val loss 0.2393428610236037 val FA 0.073928157589803 val FR 0.015604480494399381 val acc 0.9104673619157976\n",
            "train loss 0.435218878127084 val loss 0.18007952822189705 val FA 0.03623020471224411 val FR 0.03398995751255311 val acc 0.9297798377752028\n",
            "train loss 0.4244285635466646 val loss 0.1822102627917832 val FA 0.028273464658169177 val FR 0.04325994592506759 val acc 0.9284665894167632\n",
            "train loss 0.4075709159297896 val loss 0.18416715018889485 val FA 0.03885670142912322 val FR 0.026033217458478176 val acc 0.9351100811123986\n",
            "train loss 0.37703204287096787 val loss 0.16833239501597835 val FA 0.027887215140981074 val FR 0.035843955195056 val acc 0.936268829663963\n",
            "train loss 0.36797539174116306 val loss 0.16674598116500705 val FA 0.035766705291618385 val FR 0.028273464658169177 val acc 0.9359598300502124\n",
            "train loss 0.3357228946326108 val loss 0.14759767406127033 val FA 0.026805716492854383 val FR 0.03314020857473928 val acc 0.9400540749324063\n",
            "train loss 0.3431089350889469 val loss 0.15666261125429004 val FA 0.026960216299729625 val FR 0.03398995751255311 val acc 0.9390498261877173\n",
            "train loss 0.3166489789785423 val loss 0.14354110655246996 val FA 0.02935496330629587 val FR 0.030281962147547317 val acc 0.9403630745461569\n",
            "train loss 0.3154128721268306 val loss 0.1470622446607141 val FA 0.021243723445345693 val FR 0.02974121282348397 val acc 0.9490150637311703\n",
            "train loss 0.32067670107915486 val loss 0.13609751197052936 val FA 0.020625724217844726 val FR 0.028891463885670144 val acc 0.9504828118964851\n",
            "train loss 0.30123336833392456 val loss 0.15346911944010677 val FA 0.01993047508690614 val FR 0.03229045963692545 val acc 0.9477790652761684\n",
            "train loss 0.28604596359609386 val loss 0.13378815732750238 val FA 0.025646967941290073 val FR 0.02858246427191966 val acc 0.9457705677867903\n",
            "train loss 0.29246321341637616 val loss 0.1398260624093168 val FA 0.013904982618771726 val FR 0.03453070683661645 val acc 0.9515643105446118\n",
            "train loss 0.26817190274596214 val loss 0.16929840106590122 val FA 0.00996523754345307 val FR 0.0399382000772499 val acc 0.9500965623792971\n",
            "train loss 0.29539449988254185 val loss 0.15288589076668607 val FA 0.015218230977211278 val FR 0.03398995751255311 val acc 0.9507918115102356\n",
            "train loss 0.2899272348823512 val loss 0.1360668824145607 val FA 0.020471224410969487 val FR 0.027346465816917728 val acc 0.9521823097721128\n",
            "train loss 0.276658598517109 val loss 0.15389327880214243 val FA 0.016917728852838935 val FR 0.02958671301660873 val acc 0.9534955581305523\n",
            "train loss 0.27077153829738426 val loss 0.14497974222781612 val FA 0.01962147547315566 val FR 0.028196214754731556 val acc 0.9521823097721128\n",
            "train loss 0.26516031936324874 val loss 0.14870156040963003 val FA 0.013364233294708382 val FR 0.03499420625724218 val acc 0.9516415604480495\n",
            "train loss 0.2636471800689627 val loss 0.13706931771308767 val FA 0.014754731556585554 val FR 0.03314020857473928 val acc 0.9521050598686752\n",
            "train loss 0.2501029277339651 val loss 0.1310486350135476 val FA 0.015218230977211278 val FR 0.03167246040942449 val acc 0.9531093086133642\n",
            "train loss 0.2541732731472536 val loss 0.13456010650478156 val FA 0.014136732329084589 val FR 0.03568945538818077 val acc 0.9501738122827347\n",
            "train loss 0.25043024327789476 val loss 0.161021385122748 val FA 0.012359984550019312 val FR 0.047740440324449594 val acc 0.9398995751255311\n",
            "train loss 0.256700398533472 val loss 0.13994275106518878 val FA 0.013364233294708382 val FR 0.03167246040942449 val acc 0.9549633062958671\n",
            "train loss 0.2304599216859329 val loss 0.14127246275836347 val FA 0.02085747392815759 val FR 0.034607956740054076 val acc 0.9445345693317884\n",
            "train loss 0.2240872848778963 val loss 0.20720350640077217 val FA 0.007338740826573967 val FR 0.05229818462726921 val acc 0.9403630745461569\n",
            "train loss 0.22262916405653133 val loss 0.15127548093304916 val FA 0.014754731556585554 val FR 0.031131711085361145 val acc 0.9541135573580533\n",
            "train loss 0.23613765881639984 val loss 0.1334593488889582 val FA 0.017844727694090384 val FR 0.028814213982232523 val acc 0.9533410583236771\n",
            "train loss 0.2301393678283383 val loss 0.14943169159632103 val FA 0.011510235612205485 val FR 0.039397450753186555 val acc 0.949092313634608\n",
            "train loss 0.2286795885554455 val loss 0.16181647835993299 val FA 0.010505986867516415 val FR 0.045500193124758594 val acc 0.943993820007725\n",
            "train loss 0.22068926189186538 val loss 0.15346397459506989 val FA 0.014059482425646967 val FR 0.03221320973348783 val acc 0.9537273078408652\n",
            "train loss 0.2062428362318888 val loss 0.18598609717161046 val FA 0.011278485901892623 val FR 0.045654692931633836 val acc 0.9430668211664736\n",
            "train loss 0.21081435565694506 val loss 0.17344897452230548 val FA 0.006720741599073001 val FR 0.04016994978756277 val acc 0.9531093086133642\n",
            "train loss 0.2043296833674015 val loss 0.16746053274940043 val FA 0.006334492081884898 val FR 0.039783700270374665 val acc 0.9538818076477404\n",
            "train loss 0.20373101156948162 val loss 0.21377413822155372 val FA 0.005330243337195829 val FR 0.05214368482039398 val acc 0.9425260718424102\n",
            "train loss 0.21948531158084938 val loss 0.17327911238752158 val FA 0.011664735419080726 val FR 0.035998455001931245 val acc 0.952336809578988\n",
            "\n"
          ],
          "name": "stdout"
        }
      ]
    },
    {
      "cell_type": "code",
      "metadata": {
        "id": "Vs4GQ1-sBI3b"
      },
      "source": [
        "model=AtnCRNN(n_mels, 128, 4, device).to(device)\n",
        "lr=0.001\n",
        "optimizer = Adam(model.parameters(), lr=lr, weight_decay=1e-5)"
      ],
      "execution_count": null,
      "outputs": []
    },
    {
      "cell_type": "code",
      "metadata": {
        "colab": {
          "base_uri": "https://localhost:8080/",
          "height": 502,
          "referenced_widgets": [
            "80b0ba51615f46469b86f2c2218a446c",
            "f466933e9a67412ebc1df7fb1f81c9d0",
            "fdcd36b307484a8e861489a0a2075a84",
            "eca1cb916a27431eb2e9682ae44fd9a3",
            "39543281e987444197fb5230f2284554",
            "e25cb7fabf6c4877bbc7e5b383e7f64a",
            "892a8595b97445738bd51f4845cde642",
            "0b6ef0efb4574c15926aa28762f44876"
          ]
        },
        "id": "K-uj6_RJBNtA",
        "outputId": "dc5e08ff-2df2-4a0a-e619-3772523e2551"
      },
      "source": [
        "!wandb login 775938aec8c62054ff1f1878906f5cdcc20ee0e2\n",
        "import wandb\n",
        "wandb.init(project=\"dla-hw-3\")\n",
        "wandb.watch(model)"
      ],
      "execution_count": null,
      "outputs": [
        {
          "output_type": "stream",
          "text": [
            "\u001b[34m\u001b[1mwandb\u001b[0m: Appending key for api.wandb.ai to your netrc file: /root/.netrc\n"
          ],
          "name": "stdout"
        },
        {
          "output_type": "display_data",
          "data": {
            "text/html": [
              "Finishing last run (ID:t0oumpm9) before initializing another..."
            ],
            "text/plain": [
              "<IPython.core.display.HTML object>"
            ]
          },
          "metadata": {
            "tags": []
          }
        },
        {
          "output_type": "display_data",
          "data": {
            "text/html": [
              "<br/>Waiting for W&B process to finish, PID 1241<br/>Program ended successfully."
            ],
            "text/plain": [
              "<IPython.core.display.HTML object>"
            ]
          },
          "metadata": {
            "tags": []
          }
        },
        {
          "output_type": "display_data",
          "data": {
            "application/vnd.jupyter.widget-view+json": {
              "model_id": "80b0ba51615f46469b86f2c2218a446c",
              "version_minor": 0,
              "version_major": 2
            },
            "text/plain": [
              "VBox(children=(Label(value=' 0.00MB of 0.00MB uploaded (0.00MB deduped)\\r'), FloatProgress(value=1.0, max=1.0)…"
            ]
          },
          "metadata": {
            "tags": []
          }
        },
        {
          "output_type": "display_data",
          "data": {
            "text/html": [
              "Find user logs for this run at: <code>/content/wandb/run-20201216_144731-t0oumpm9/logs/debug.log</code>"
            ],
            "text/plain": [
              "<IPython.core.display.HTML object>"
            ]
          },
          "metadata": {
            "tags": []
          }
        },
        {
          "output_type": "display_data",
          "data": {
            "text/html": [
              "Find internal logs for this run at: <code>/content/wandb/run-20201216_144731-t0oumpm9/logs/debug-internal.log</code>"
            ],
            "text/plain": [
              "<IPython.core.display.HTML object>"
            ]
          },
          "metadata": {
            "tags": []
          }
        },
        {
          "output_type": "display_data",
          "data": {
            "text/html": [
              "<h3>Run summary:</h3><br/><style>\n",
              "    table.wandb td:nth-child(1) { padding: 0 10px; text-align: right }\n",
              "    </style><table class=\"wandb\">\n",
              "</table>"
            ],
            "text/plain": [
              "<IPython.core.display.HTML object>"
            ]
          },
          "metadata": {
            "tags": []
          }
        },
        {
          "output_type": "display_data",
          "data": {
            "text/html": [
              "Synced 5 W&B file(s), 1 media file(s), 0 artifact file(s) and 0 other file(s)"
            ],
            "text/plain": [
              "<IPython.core.display.HTML object>"
            ]
          },
          "metadata": {
            "tags": []
          }
        },
        {
          "output_type": "display_data",
          "data": {
            "text/html": [
              "\n",
              "                    <br/>Synced <strong style=\"color:#cdcd00\">major-paper-2</strong>: <a href=\"https://wandb.ai/captain_doggo/dla-hw-3/runs/t0oumpm9\" target=\"_blank\">https://wandb.ai/captain_doggo/dla-hw-3/runs/t0oumpm9</a><br/>\n",
              "                "
            ],
            "text/plain": [
              "<IPython.core.display.HTML object>"
            ]
          },
          "metadata": {
            "tags": []
          }
        },
        {
          "output_type": "display_data",
          "data": {
            "text/html": [
              "...Successfully finished last run (ID:t0oumpm9). Initializing new run:<br/><br/>"
            ],
            "text/plain": [
              "<IPython.core.display.HTML object>"
            ]
          },
          "metadata": {
            "tags": []
          }
        },
        {
          "output_type": "display_data",
          "data": {
            "text/html": [
              "\n",
              "                Tracking run with wandb version 0.10.12<br/>\n",
              "                Syncing run <strong style=\"color:#cdcd00\">frosty-brook-3</strong> to <a href=\"https://wandb.ai\" target=\"_blank\">Weights & Biases</a> <a href=\"https://docs.wandb.com/integrations/jupyter.html\" target=\"_blank\">(Documentation)</a>.<br/>\n",
              "                Project page: <a href=\"https://wandb.ai/captain_doggo/dla-hw-3\" target=\"_blank\">https://wandb.ai/captain_doggo/dla-hw-3</a><br/>\n",
              "                Run page: <a href=\"https://wandb.ai/captain_doggo/dla-hw-3/runs/npj83ods\" target=\"_blank\">https://wandb.ai/captain_doggo/dla-hw-3/runs/npj83ods</a><br/>\n",
              "                Run data is saved locally in <code>/content/wandb/run-20201216_145723-npj83ods</code><br/><br/>\n",
              "            "
            ],
            "text/plain": [
              "<IPython.core.display.HTML object>"
            ]
          },
          "metadata": {
            "tags": []
          }
        },
        {
          "output_type": "execute_result",
          "data": {
            "text/plain": [
              "[<wandb.wandb_torch.TorchGraph at 0x7fec122fbba8>]"
            ]
          },
          "metadata": {
            "tags": []
          },
          "execution_count": 125
        }
      ]
    },
    {
      "cell_type": "code",
      "metadata": {
        "id": "rM8nSSQqBRw0"
      },
      "source": [
        "from tqdm import tqdm_notebook\n",
        "\n",
        "epochs = 40\n",
        "pbar = tqdm_notebook(total = epochs*(len(train)//batch_size))\n",
        "for epoch in range(epochs):\n",
        "  running_loss=0.0\n",
        "  val_loss=0.0\n",
        "  ctr=0\n",
        "  val_ctr=0\n",
        "  model.train()\n",
        "  for batch in train_loader:\n",
        "    X, y = batch\n",
        "    X = X.to(device)\n",
        "    y = y.to(device)\n",
        "    X_mel = melspec(X)\n",
        "\n",
        "    optimizer.zero_grad()\n",
        "\n",
        "    pred = model(X_mel)\n",
        "    loss = F.nll_loss(pred, y)\n",
        "    running_loss+=loss.item()\n",
        "    loss.backward()\n",
        "    torch.nn.utils.clip_grad_norm_(model.parameters(), 5)\n",
        "\n",
        "    optimizer.step()\n",
        "    ctr+=1\n",
        "    pbar.update(1)\n",
        "  \n",
        "  model.eval()\n",
        "  val_preds = []\n",
        "  true = []\n",
        "  for batch in val_loader:\n",
        "    X, y = batch\n",
        "    X = X.to(device)\n",
        "    y = y.to(device)\n",
        "    X_mel = melspec_val(X)\n",
        "    with torch.no_grad():\n",
        "      pred = model(X_mel)\n",
        "      loss = F.nll_loss(pred, y)\n",
        "      val_loss+=loss.item()\n",
        "    pred = (torch.argmax(pred, dim=1)).cpu()\n",
        "    val_preds.extend(pred.tolist())\n",
        "    true.extend(y.cpu().tolist())\n",
        "    val_ctr+=1\n",
        "  val_preds =np.array(val_preds)\n",
        "  true = np.array(true)\n",
        "  FA, FR = FAFR_scores(val_preds, true)\n",
        "  acc = accuracy_score(true, val_preds)\n",
        "  wandb.log({'train loss':running_loss/ctr, 'val loss':val_loss/val_ctr, 'val FA':FA, 'val FR':FR, 'val acc':acc})\n",
        "  print('train loss', running_loss/ctr, 'val loss', val_loss/val_ctr, 'val FA', FA, 'val FR', FR, 'val acc', acc)\n",
        "\n",
        "\n",
        "pbar.close()"
      ],
      "execution_count": null,
      "outputs": []
    },
    {
      "cell_type": "markdown",
      "metadata": {
        "id": "RF0s-LywbbcG"
      },
      "source": [
        "# Inference\n",
        "Добавим модели функцию predict для выявления ключевых слов"
      ]
    },
    {
      "cell_type": "code",
      "metadata": {
        "id": "5yFCzMvdb3Vw"
      },
      "source": [
        "class Attention(nn.Module):\n",
        "    def __init__(self, inn, linn, n_classes):\n",
        "        super(Attention, self).__init__()\n",
        "        self.Wxb = nn.Linear(inn, inn)\n",
        "        self.Vt = nn.Linear(inn, 1, bias=False)\n",
        "        self.t = nn.Tanh()\n",
        "\n",
        "        self.out = nn.Linear(linn, n_classes, bias=False)\n",
        "        self.sftmx = nn.Softmax(dim=-1)\n",
        "        self.lsftmx = nn.LogSoftmax(dim=-1)\n",
        "\n",
        "    def forward(self, x):\n",
        "        apl_a = []\n",
        "        for x_ in x:\n",
        "          x_ = self.Wxb(x_)\n",
        "          x_ = self.t(x_)\n",
        "          x_ = self.Vt(x_)\n",
        "          apl_a.append(x_)\n",
        "        apl_a = torch.cat(apl_a, dim=1)\n",
        "        x = x.transpose(0, 1)\n",
        "        apl_a = self.sftmx(apl_a).unsqueeze(1)\n",
        "        res = torch.bmm(apl_a, x).squeeze()\n",
        "        res = self.lsftmx(self.out(res))\n",
        "        return res\n",
        "\n",
        "    def inference_layer(self, x):\n",
        "        self.eval()\n",
        "        return self.Vt(self.t(self.Wxb(x)))\n",
        "\n",
        "    def inference_attn(self, apl_a, x):\n",
        "        self.eval()\n",
        "        x = x.transpose(0, 1)\n",
        "        apl_a = self.sftmx(apl_a).unsqueeze(1)\n",
        "        res = torch.bmm(apl_a, x).squeeze()\n",
        "        res = self.lsftmx(self.out(res))\n",
        "        return res\n",
        "\n",
        "class AtnCRNN(nn.Module):\n",
        "    def __init__(self, inn, hidden, num_layers, device, ks=5, n_classes=2, nd=2):\n",
        "        super(AtnCRNN, self).__init__()\n",
        "        self.ks=ks\n",
        "        self.conv5 = nn.Conv1d(inn, inn, kernel_size=ks, stride=2, dilation=1, groups=inn)\n",
        "        self.conv20 = nn.Conv1d(inn, hidden, kernel_size=1, stride=8, groups=int(inn/20))\n",
        "\n",
        "        self.rnn = nn.GRU(hidden, hidden, num_layers=num_layers, dropout=0.1, bidirectional=True)\n",
        "        self.num_layers=num_layers\n",
        "        self.hidden=hidden\n",
        "        self.device=device\n",
        "        self.attention = Attention(hidden*2, hidden*nd, n_classes)\n",
        "\n",
        "    def forward(self, x):\n",
        "        h = torch.zeros(self.num_layers*2, x.shape[0], self.hidden).to(self.device)\n",
        "        x = self.conv5(x)\n",
        "        x = self.conv20(x)\n",
        "        x = x.permute(2, 0, 1)\n",
        "        #print(x.shape)\n",
        "        \n",
        "        x, hidn = self.rnn(x, h)\n",
        "        x = self.attention(x)\n",
        "        return x\n",
        "    \n",
        "    def inference_crnn(self, x, h):\n",
        "        self.eval()\n",
        "        x = self.conv5(x)\n",
        "        x = self.conv20(x)\n",
        "        x = x.permute(2, 0, 1)\n",
        "        x, hidn = self.rnn(x, h)\n",
        "        return x, hidn\n",
        "    \n",
        "\n",
        "    def predict(self, wav, melspec, confidence=0.3):\n",
        "        flag_kw = False\n",
        "        mel = melspec(wav).unsqueeze(0).to(self.device)\n",
        "        kw_p = []\n",
        "        with torch.no_grad():\n",
        "          l = 45\n",
        "          r = mel.shape[2] - l+1\n",
        "          hidn = torch.zeros(self.num_layers*2, mel.shape[0], self.hidden).to(self.device)\n",
        "          outs, hidn = self.inference_crnn(mel[:, :, :l], hidn)\n",
        "          l = l - self.ks\n",
        "          xs = []\n",
        "          for x in outs:\n",
        "            x_ = self.attention.inference_layer(x)\n",
        "            xs.append(x_)\n",
        "          res_x = torch.cat(xs, dim=1)\n",
        "          p = self.attention.inference_attn(res_x, outs)\n",
        "          kw_p.append(np.exp(p[1]))\n",
        "          i = self.ks\n",
        "          while i < r:\n",
        "            xs = xs[1:]\n",
        "            outs = outs[1:]\n",
        "            frame = mel[:, :, i+l : i+l+self.ks]\n",
        "            out, hidn = self.inference_crnn(frame, hidn)\n",
        "            outs = torch.cat((outs, out))\n",
        "\n",
        "            x_ = self.attention.inference_layer(out.squeeze(0))\n",
        "            xs.append(x_)\n",
        "            res_x = torch.cat(xs, dim=1)\n",
        "\n",
        "            p = self.attention.inference_attn(res_x, outs)\n",
        "            kw_p.append(np.exp(p[1]))\n",
        "            if np.exp(p[1]) > confidence:\n",
        "              if not flag_kw:\n",
        "                print('Audio includes keyword')\n",
        "                flag_kw = True\n",
        "            i += self.ks\n",
        "        if not flag_kw:\n",
        "          print('Audio does not include keyword')\n",
        "        plt.plot(np.zeros(len(kw_p))+confidence, label='minimum confidence')\n",
        "        plt.plot(kw_p, label = 'probabilities of keyword')\n",
        "        plt.legend()\n",
        "        plt.show()"
      ],
      "execution_count": 125,
      "outputs": []
    },
    {
      "cell_type": "code",
      "metadata": {
        "colab": {
          "base_uri": "https://localhost:8080/"
        },
        "id": "SkRb-pxnUk18",
        "outputId": "50f5756b-b42d-4302-bf01-b17e692ef057"
      },
      "source": [
        "from google.colab import drive\n",
        "drive.mount('/content/drive')"
      ],
      "execution_count": 20,
      "outputs": [
        {
          "output_type": "stream",
          "text": [
            "Mounted at /content/drive\n"
          ],
          "name": "stdout"
        }
      ]
    },
    {
      "cell_type": "code",
      "metadata": {
        "id": "7R11couBWDEr"
      },
      "source": [
        "test_wav, sr1 = torchaudio.load('/content/drive/MyDrive/DLA/hw4/audio.wav')\n",
        "kw_wav, sr2 = torchaudio.load('/content/speech_commands/sheila/004ae714_nohash_0.wav')"
      ],
      "execution_count": 21,
      "outputs": []
    },
    {
      "cell_type": "code",
      "metadata": {
        "id": "ikSR0AEjWaJI"
      },
      "source": [
        "\n",
        "resampler = torchaudio.transforms.Resample(orig_freq=sr1, new_freq=sr2)\n",
        "test_wav = resampler(test_wav)"
      ],
      "execution_count": 22,
      "outputs": []
    },
    {
      "cell_type": "markdown",
      "metadata": {
        "id": "m-8iwe7lbuzn"
      },
      "source": [
        "# Наш тестовый пример"
      ]
    },
    {
      "cell_type": "code",
      "metadata": {
        "colab": {
          "base_uri": "https://localhost:8080/",
          "height": 52
        },
        "id": "dKAGnLhNzrIP",
        "outputId": "efc3f1f6-3b46-44bf-f723-f77b15bb1216"
      },
      "source": [
        "eight, sr0 = torchaudio.load('/content/speech_commands/eight/004ae714_nohash_0.wav')\n",
        "dog, sr0 = torchaudio.load('/content/speech_commands/dog/00b01445_nohash_0.wav')\n",
        "eight_dog_sheila = torch.zeros(eight.shape[1]+dog.shape[1]+kw_wav.shape[1])\n",
        "\n",
        "eight_dog_sheila[:eight.shape[1]] = eight[0]\n",
        "eight_dog_sheila[eight.shape[1]:eight.shape[1]+dog.shape[1]] = dog[0]\n",
        "eight_dog_sheila[-kw_wav.shape[1]:] = kw_wav[0]\n",
        "display_.display(display_.Audio(eight_dog_sheila, rate = 16000))"
      ],
      "execution_count": 122,
      "outputs": [
        {
          "output_type": "display_data",
          "data": {
            "text/html": [
              "\n",
              "                <audio controls=\"controls\" >\n",
              "                    <source src=\"data:audio/wav;base64,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\" type=\"audio/wav\" />\n",
              "                    Your browser does not support the audio element.\n",
              "                </audio>\n",
              "              "
            ],
            "text/plain": [
              "<IPython.lib.display.Audio object>"
            ]
          },
          "metadata": {
            "tags": []
          }
        }
      ]
    },
    {
      "cell_type": "markdown",
      "metadata": {
        "id": "RtDpu3kkcBts"
      },
      "source": [
        "Обучим модель на нескольких эпохах и проверим инференс"
      ]
    },
    {
      "cell_type": "code",
      "metadata": {
        "id": "XCCR-hPnZfDI"
      },
      "source": [
        "import matplotlib.pyplot as plt\n",
        "\n",
        "model=AtnCRNN(n_mels, 128, 4, device).to(device)\n",
        "lr=0.001\n",
        "optimizer = Adam(model.parameters(), lr=lr, weight_decay=1e-5)"
      ],
      "execution_count": 27,
      "outputs": []
    },
    {
      "cell_type": "code",
      "metadata": {
        "colab": {
          "base_uri": "https://localhost:8080/",
          "height": 358,
          "referenced_widgets": [
            "7cf5175d74854b2188be9aae4af4b724",
            "fce40ba30c7a4d87af00d6ebccc036be",
            "ff6d32f7e7a045bcb4a488e66e4d61bf",
            "06858e19e1d24ebab86a4ae015ea7191",
            "147507eabd6b487b904249e57acc81a6",
            "ab12cfe225554399ba096188333a7b28",
            "01ff085d1686413a9f410f03089a0f69",
            "440e6f5c391a4caea6f13cc94504666c"
          ]
        },
        "id": "Ck3VVRUqZUH0",
        "outputId": "8676e148-8725-4462-9ec3-a8ad149e0f64"
      },
      "source": [
        "from tqdm import tqdm_notebook\n",
        "\n",
        "epochs = 20\n",
        "pbar = tqdm_notebook(total = epochs*(len(train)//batch_size))\n",
        "for epoch in range(epochs):\n",
        "  running_loss=0.0\n",
        "  val_loss=0.0\n",
        "  ctr=0\n",
        "  val_ctr=0\n",
        "  model.train()\n",
        "  for batch in train_loader:\n",
        "    X, y = batch\n",
        "    X = X.to(device)\n",
        "    y = y.to(device)\n",
        "    X_mel = melspec(X)\n",
        "\n",
        "    optimizer.zero_grad()\n",
        "\n",
        "    pred = model(X_mel)\n",
        "    loss = F.nll_loss(pred, y)\n",
        "    running_loss+=loss.item()\n",
        "    loss.backward()\n",
        "    torch.nn.utils.clip_grad_norm_(model.parameters(), 5)\n",
        "\n",
        "    optimizer.step()\n",
        "    ctr+=1\n",
        "    pbar.update(1)\n",
        "  \n",
        "  model.eval()\n",
        "  val_preds = []\n",
        "  true = []\n",
        "  for batch in val_loader:\n",
        "    X, y = batch\n",
        "    X = X.to(device)\n",
        "    y = y.to(device)\n",
        "    X_mel = melspec_val(X)\n",
        "    with torch.no_grad():\n",
        "      pred = model(X_mel)\n",
        "      loss = F.nll_loss(pred, y)\n",
        "      val_loss+=loss.item()\n",
        "    pred = (torch.argmax(pred, dim=1)).cpu()\n",
        "    val_preds.extend(pred.tolist())\n",
        "    true.extend(y.cpu().tolist())\n",
        "    val_ctr+=1\n",
        "  val_preds =np.array(val_preds)\n",
        "  true = np.array(true)\n",
        "  FA, FR = FAFR_scores(val_preds, true)\n",
        "  acc = accuracy_score(true, val_preds)\n",
        "  print('train loss', running_loss/ctr, 'val loss', val_loss/val_ctr, 'val FA', FA, 'val FR', FR, 'val acc', acc)\n",
        "\n",
        "\n",
        "pbar.close()"
      ],
      "execution_count": 39,
      "outputs": [
        {
          "output_type": "stream",
          "text": [
            "/usr/local/lib/python3.6/dist-packages/ipykernel_launcher.py:4: TqdmDeprecationWarning: This function will be removed in tqdm==5.0.0\n",
            "Please use `tqdm.notebook.tqdm` instead of `tqdm.tqdm_notebook`\n",
            "  after removing the cwd from sys.path.\n"
          ],
          "name": "stderr"
        },
        {
          "output_type": "display_data",
          "data": {
            "application/vnd.jupyter.widget-view+json": {
              "model_id": "7cf5175d74854b2188be9aae4af4b724",
              "version_minor": 0,
              "version_major": 2
            },
            "text/plain": [
              "HBox(children=(FloatProgress(value=0.0, max=2020.0), HTML(value='')))"
            ]
          },
          "metadata": {
            "tags": []
          }
        },
        {
          "output_type": "stream",
          "text": [
            "train loss 0.3367893503510893 val loss 0.1462994248551481 val FA 0.03653920432599459 val FR 0.02325222093472383 val acc 0.9402085747392815\n",
            "train loss 0.34716677419804587 val loss 0.14724484801876778 val FA 0.036848203939745076 val FR 0.02302047122441097 val acc 0.9401313248358439\n",
            "train loss 0.33411177904735057 val loss 0.1434429095071905 val FA 0.03623020471224411 val FR 0.02294322132097335 val acc 0.9408265739667825\n",
            "train loss 0.3358911191448202 val loss 0.14301275812527714 val FA 0.03252220934723832 val FR 0.024797219003476246 val acc 0.9426805716492854\n",
            "train loss 0.34255051238489853 val loss 0.14119286163180483 val FA 0.03221320973348783 val FR 0.022479721900347624 val acc 0.9453070683661645\n",
            "train loss 0.3400324817581717 val loss 0.13726741908227696 val FA 0.03182696021629973 val FR 0.020702974121282348 val acc 0.9474700656624179\n",
            "train loss 0.3281270854285198 val loss 0.13585703615464417 val FA 0.03229045963692545 val FR 0.024410969486288143 val acc 0.9432985708767864\n",
            "train loss 0.3397814843785293 val loss 0.14419637532795176 val FA 0.03290845886442642 val FR 0.023792970258787176 val acc 0.9432985708767864\n",
            "train loss 0.329537883694536 val loss 0.14540913496531693 val FA 0.03476245654692932 val FR 0.021552723059096175 val acc 0.9436848203939745\n",
            "train loss 0.34776144115061597 val loss 0.13278049069876766 val FA 0.03229045963692545 val FR 0.02093472383159521 val acc 0.9467748165314793\n",
            "\n"
          ],
          "name": "stdout"
        }
      ]
    },
    {
      "cell_type": "code",
      "metadata": {
        "id": "al8kpVhOYfgk"
      },
      "source": [
        "torch.save(model.state_dict(), '/content/drive/MyDrive/DLA/hw3/kws_e20.pt')"
      ],
      "execution_count": 40,
      "outputs": []
    },
    {
      "cell_type": "code",
      "metadata": {
        "colab": {
          "base_uri": "https://localhost:8080/"
        },
        "id": "FZkcCkl-ZIw_",
        "outputId": "a314321d-27fc-4457-dc27-a699a5c5df14"
      },
      "source": [
        "\n",
        "model=AtnCRNN(n_mels, 128, 4, device).to(device)\n",
        "model.load_state_dict(torch.load('/content/drive/MyDrive/DLA/hw3/kws_e20.pt'))"
      ],
      "execution_count": 126,
      "outputs": [
        {
          "output_type": "execute_result",
          "data": {
            "text/plain": [
              "<All keys matched successfully>"
            ]
          },
          "metadata": {
            "tags": []
          },
          "execution_count": 126
        }
      ]
    },
    {
      "cell_type": "code",
      "metadata": {
        "colab": {
          "base_uri": "https://localhost:8080/",
          "height": 300
        },
        "id": "oYE8luPjdhHT",
        "outputId": "e6d0e6d6-4bb4-4220-d756-4fd3bc76893f"
      },
      "source": [
        "print('На записи без ключевого слова:')\n",
        "model.predict(eight_dog_sheila[:36000], melspec_val)"
      ],
      "execution_count": 127,
      "outputs": [
        {
          "output_type": "stream",
          "text": [
            "На записи без ключевого слова:\n",
            "Audio does not include keyword\n"
          ],
          "name": "stdout"
        },
        {
          "output_type": "display_data",
          "data": {
            "image/png": "[encoded data removed]",
            "text/plain": [
              "<Figure size 432x288 with 1 Axes>"
            ]
          },
          "metadata": {
            "tags": [],
            "needs_background": "light"
          }
        }
      ]
    },
    {
      "cell_type": "code",
      "metadata": {
        "colab": {
          "base_uri": "https://localhost:8080/",
          "height": 300
        },
        "id": "XFnqligkgYRe",
        "outputId": "99aed305-8fea-40b9-a211-56d500959105"
      },
      "source": [
        "print('Наша склеяная запись с ключевым словом')\n",
        "model.predict(eight_dog_sheila, melspec_val)"
      ],
      "execution_count": 128,
      "outputs": [
        {
          "output_type": "stream",
          "text": [
            "Наша склеяная запись с ключевым словом\n",
            "Audio includes keyword\n"
          ],
          "name": "stdout"
        },
        {
          "output_type": "display_data",
          "data": {
            "image/png": "[encoded data removed]",
            "text/plain": [
              "<Figure size 432x288 with 1 Axes>"
            ]
          },
          "metadata": {
            "tags": [],
            "needs_background": "light"
          }
        }
      ]
    }
  ]
}